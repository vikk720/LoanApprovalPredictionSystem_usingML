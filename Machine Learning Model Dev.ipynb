{
 "cells": [
  {
   "cell_type": "markdown",
   "id": "stone-passion",
   "metadata": {},
   "source": [
    "# Machine Learning Model Dev"
   ]
  },
  {
   "cell_type": "markdown",
   "id": "organizational-sender",
   "metadata": {},
   "source": [
    "---"
   ]
  },
  {
   "cell_type": "markdown",
   "id": "african-convergence",
   "metadata": {},
   "source": [
    "## Import packages"
   ]
  },
  {
   "cell_type": "markdown",
   "id": "unavailable-military",
   "metadata": {},
   "source": [
    "There are some packages for doing descriptive analytics as follows:\n",
    "- **pandas**: for data manipulation\n",
    "- **numpy**: for linear algebra calculation\n",
    "- **matplotlib**: for data visualization\n",
    "- **seaborn**: for data manipulation\n",
    "- **plotnine**: for data manipulation\n",
    "\n",
    "**Note**: that there are more than one package used for making a data visualization. The `plotnine` can be your choice if you are familiar with `ggplot2` on R programming. It will create your visualization beautifully"
   ]
  },
  {
   "cell_type": "code",
   "execution_count": 1,
   "id": "undefined-guide",
   "metadata": {},
   "outputs": [],
   "source": [
    "# Dataframe manipulation\n",
    "import pandas as pd\n",
    "\n",
    "# Linear algebra\n",
    "import numpy as np\n",
    "\n",
    "# Data visualization with plotnine\n",
    "from plotnine import *\n",
    "import plotnine\n",
    "\n",
    "# Data visualization with matplotlib\n",
    "import matplotlib.pyplot as plt\n",
    "\n",
    "# Data partitioning\n",
    "from sklearn.model_selection import train_test_split\n",
    "from sklearn.model_selection import KFold\n",
    "\n",
    "# Grid-search\n",
    "from sklearn.model_selection import GridSearchCV\n",
    "\n",
    "# Evaluation metrics\n",
    "from sklearn.metrics import accuracy_score, f1_score, precision_score, recall_score\n",
    "from sklearn.metrics import make_scorer\n",
    "\n",
    "# XGBoost model\n",
    "import xgboost as xgb\n",
    "\n",
    "# Save the model\n",
    "import joblib"
   ]
  },
  {
   "cell_type": "code",
   "execution_count": 2,
   "id": "3368237a",
   "metadata": {},
   "outputs": [
    {
     "name": "stdout",
     "output_type": "stream",
     "text": [
      "Requirement already satisfied: xgboost in c:\\users\\acer\\anaconda3\\envs\\tensorflow_env\\lib\\site-packages (1.7.5)\n",
      "Requirement already satisfied: scipy in c:\\users\\acer\\anaconda3\\envs\\tensorflow_env\\lib\\site-packages (from xgboost) (1.10.0)\n",
      "Requirement already satisfied: numpy in c:\\users\\acer\\anaconda3\\envs\\tensorflow_env\\lib\\site-packages (from xgboost) (1.23.5)\n",
      "Note: you may need to restart the kernel to use updated packages.\n"
     ]
    }
   ],
   "source": [
    "pip install xgboost"
   ]
  },
  {
   "cell_type": "code",
   "execution_count": 3,
   "id": "5cb27666",
   "metadata": {},
   "outputs": [
    {
     "name": "stdout",
     "output_type": "stream",
     "text": [
      "Requirement already satisfied: plotnine in c:\\users\\acer\\anaconda3\\envs\\tensorflow_env\\lib\\site-packages (0.10.1)\n",
      "Requirement already satisfied: mizani>=0.8.1 in c:\\users\\acer\\anaconda3\\envs\\tensorflow_env\\lib\\site-packages (from plotnine) (0.9.0)\n",
      "Requirement already satisfied: numpy>=1.19.0 in c:\\users\\acer\\anaconda3\\envs\\tensorflow_env\\lib\\site-packages (from plotnine) (1.23.5)\n",
      "Requirement already satisfied: patsy>=0.5.1 in c:\\users\\acer\\anaconda3\\envs\\tensorflow_env\\lib\\site-packages (from plotnine) (0.5.3)\n",
      "Requirement already satisfied: statsmodels>=0.13.2 in c:\\users\\acer\\anaconda3\\envs\\tensorflow_env\\lib\\site-packages (from plotnine) (0.14.0)\n",
      "Requirement already satisfied: pandas>=1.3.5 in c:\\users\\acer\\anaconda3\\envs\\tensorflow_env\\lib\\site-packages (from plotnine) (1.5.3)\n",
      "Requirement already satisfied: scipy>=1.5.0 in c:\\users\\acer\\anaconda3\\envs\\tensorflow_env\\lib\\site-packages (from plotnine) (1.10.0)\n",
      "Requirement already satisfied: matplotlib>=3.5.0 in c:\\users\\acer\\anaconda3\\envs\\tensorflow_env\\lib\\site-packages (from plotnine) (3.7.1)\n",
      "Requirement already satisfied: packaging>=20.0 in c:\\users\\acer\\anaconda3\\envs\\tensorflow_env\\lib\\site-packages (from matplotlib>=3.5.0->plotnine) (23.0)\n",
      "Requirement already satisfied: kiwisolver>=1.0.1 in c:\\users\\acer\\anaconda3\\envs\\tensorflow_env\\lib\\site-packages (from matplotlib>=3.5.0->plotnine) (1.4.4)\n",
      "Requirement already satisfied: fonttools>=4.22.0 in c:\\users\\acer\\anaconda3\\envs\\tensorflow_env\\lib\\site-packages (from matplotlib>=3.5.0->plotnine) (4.39.3)\n",
      "Requirement already satisfied: contourpy>=1.0.1 in c:\\users\\acer\\anaconda3\\envs\\tensorflow_env\\lib\\site-packages (from matplotlib>=3.5.0->plotnine) (1.0.7)\n",
      "Requirement already satisfied: pyparsing>=2.3.1 in c:\\users\\acer\\anaconda3\\envs\\tensorflow_env\\lib\\site-packages (from matplotlib>=3.5.0->plotnine) (3.0.9)\n",
      "Requirement already satisfied: pillow>=6.2.0 in c:\\users\\acer\\anaconda3\\envs\\tensorflow_env\\lib\\site-packages (from matplotlib>=3.5.0->plotnine) (9.4.0)\n",
      "Requirement already satisfied: python-dateutil>=2.7 in c:\\users\\acer\\anaconda3\\envs\\tensorflow_env\\lib\\site-packages (from matplotlib>=3.5.0->plotnine) (2.8.2)\n",
      "Requirement already satisfied: cycler>=0.10 in c:\\users\\acer\\anaconda3\\envs\\tensorflow_env\\lib\\site-packages (from matplotlib>=3.5.0->plotnine) (0.11.0)\n",
      "Requirement already satisfied: tzdata in c:\\users\\acer\\anaconda3\\envs\\tensorflow_env\\lib\\site-packages (from mizani>=0.8.1->plotnine) (2023.3)\n",
      "Requirement already satisfied: pytz>=2020.1 in c:\\users\\acer\\anaconda3\\envs\\tensorflow_env\\lib\\site-packages (from pandas>=1.3.5->plotnine) (2023.3)\n",
      "Requirement already satisfied: six in c:\\users\\acer\\anaconda3\\envs\\tensorflow_env\\lib\\site-packages (from patsy>=0.5.1->plotnine) (1.16.0)\n",
      "Note: you may need to restart the kernel to use updated packages.\n"
     ]
    }
   ],
   "source": [
    "pip install plotnine"
   ]
  },
  {
   "cell_type": "code",
   "execution_count": 4,
   "id": "infrared-scout",
   "metadata": {},
   "outputs": [],
   "source": [
    "# Ignore warnings\n",
    "import warnings\n",
    "warnings.filterwarnings('ignore', category = FutureWarning)"
   ]
  },
  {
   "cell_type": "markdown",
   "id": "flush-brand",
   "metadata": {},
   "source": [
    "## Import data set"
   ]
  },
  {
   "cell_type": "markdown",
   "id": "standard-property",
   "metadata": {},
   "source": [
    "After importing the data set into Python, the `df_train` is now our data frame. The data frame has a lot of functions and methods that will create spesific outputs about the characteristic of data frame. The method of `columns` will print out all the column names."
   ]
  },
  {
   "cell_type": "markdown",
   "id": "cellular-shower",
   "metadata": {},
   "source": [
    "### Training set"
   ]
  },
  {
   "cell_type": "code",
   "execution_count": 5,
   "id": "subjective-truth",
   "metadata": {},
   "outputs": [
    {
     "ename": "FileNotFoundError",
     "evalue": "[Errno 2] No such file or directory: 'C:\\\\Users\\\\acer\\\\Desktop\\\\loan-approval-prediction-main\\\\data\\\\loan_train.csv'",
     "output_type": "error",
     "traceback": [
      "\u001b[1;31m---------------------------------------------------------------------------\u001b[0m",
      "\u001b[1;31mFileNotFoundError\u001b[0m                         Traceback (most recent call last)",
      "Cell \u001b[1;32mIn[5], line 2\u001b[0m\n\u001b[0;32m      1\u001b[0m \u001b[39m# Import the training set\u001b[39;00m\n\u001b[1;32m----> 2\u001b[0m df_train \u001b[39m=\u001b[39m pd\u001b[39m.\u001b[39;49mread_csv(\n\u001b[0;32m      3\u001b[0m     filepath_or_buffer \u001b[39m=\u001b[39;49m \u001b[39mr\u001b[39;49m\u001b[39m'\u001b[39;49m\u001b[39mC:\u001b[39;49m\u001b[39m\\\u001b[39;49m\u001b[39mUsers\u001b[39;49m\u001b[39m\\\u001b[39;49m\u001b[39macer\u001b[39;49m\u001b[39m\\\u001b[39;49m\u001b[39mDesktop\u001b[39;49m\u001b[39m\\\u001b[39;49m\u001b[39mloan-approval-prediction-main\u001b[39;49m\u001b[39m\\\u001b[39;49m\u001b[39mdata\u001b[39;49m\u001b[39m\\\u001b[39;49m\u001b[39mloan_train.csv\u001b[39;49m\u001b[39m'\u001b[39;49m\n\u001b[0;32m      4\u001b[0m )\n",
      "File \u001b[1;32mc:\\Users\\acer\\anaconda3\\envs\\tensorflow_env\\lib\\site-packages\\pandas\\util\\_decorators.py:211\u001b[0m, in \u001b[0;36mdeprecate_kwarg.<locals>._deprecate_kwarg.<locals>.wrapper\u001b[1;34m(*args, **kwargs)\u001b[0m\n\u001b[0;32m    209\u001b[0m     \u001b[39melse\u001b[39;00m:\n\u001b[0;32m    210\u001b[0m         kwargs[new_arg_name] \u001b[39m=\u001b[39m new_arg_value\n\u001b[1;32m--> 211\u001b[0m \u001b[39mreturn\u001b[39;00m func(\u001b[39m*\u001b[39margs, \u001b[39m*\u001b[39m\u001b[39m*\u001b[39mkwargs)\n",
      "File \u001b[1;32mc:\\Users\\acer\\anaconda3\\envs\\tensorflow_env\\lib\\site-packages\\pandas\\util\\_decorators.py:331\u001b[0m, in \u001b[0;36mdeprecate_nonkeyword_arguments.<locals>.decorate.<locals>.wrapper\u001b[1;34m(*args, **kwargs)\u001b[0m\n\u001b[0;32m    325\u001b[0m \u001b[39mif\u001b[39;00m \u001b[39mlen\u001b[39m(args) \u001b[39m>\u001b[39m num_allow_args:\n\u001b[0;32m    326\u001b[0m     warnings\u001b[39m.\u001b[39mwarn(\n\u001b[0;32m    327\u001b[0m         msg\u001b[39m.\u001b[39mformat(arguments\u001b[39m=\u001b[39m_format_argument_list(allow_args)),\n\u001b[0;32m    328\u001b[0m         \u001b[39mFutureWarning\u001b[39;00m,\n\u001b[0;32m    329\u001b[0m         stacklevel\u001b[39m=\u001b[39mfind_stack_level(),\n\u001b[0;32m    330\u001b[0m     )\n\u001b[1;32m--> 331\u001b[0m \u001b[39mreturn\u001b[39;00m func(\u001b[39m*\u001b[39margs, \u001b[39m*\u001b[39m\u001b[39m*\u001b[39mkwargs)\n",
      "File \u001b[1;32mc:\\Users\\acer\\anaconda3\\envs\\tensorflow_env\\lib\\site-packages\\pandas\\io\\parsers\\readers.py:950\u001b[0m, in \u001b[0;36mread_csv\u001b[1;34m(filepath_or_buffer, sep, delimiter, header, names, index_col, usecols, squeeze, prefix, mangle_dupe_cols, dtype, engine, converters, true_values, false_values, skipinitialspace, skiprows, skipfooter, nrows, na_values, keep_default_na, na_filter, verbose, skip_blank_lines, parse_dates, infer_datetime_format, keep_date_col, date_parser, dayfirst, cache_dates, iterator, chunksize, compression, thousands, decimal, lineterminator, quotechar, quoting, doublequote, escapechar, comment, encoding, encoding_errors, dialect, error_bad_lines, warn_bad_lines, on_bad_lines, delim_whitespace, low_memory, memory_map, float_precision, storage_options)\u001b[0m\n\u001b[0;32m    935\u001b[0m kwds_defaults \u001b[39m=\u001b[39m _refine_defaults_read(\n\u001b[0;32m    936\u001b[0m     dialect,\n\u001b[0;32m    937\u001b[0m     delimiter,\n\u001b[1;32m   (...)\u001b[0m\n\u001b[0;32m    946\u001b[0m     defaults\u001b[39m=\u001b[39m{\u001b[39m\"\u001b[39m\u001b[39mdelimiter\u001b[39m\u001b[39m\"\u001b[39m: \u001b[39m\"\u001b[39m\u001b[39m,\u001b[39m\u001b[39m\"\u001b[39m},\n\u001b[0;32m    947\u001b[0m )\n\u001b[0;32m    948\u001b[0m kwds\u001b[39m.\u001b[39mupdate(kwds_defaults)\n\u001b[1;32m--> 950\u001b[0m \u001b[39mreturn\u001b[39;00m _read(filepath_or_buffer, kwds)\n",
      "File \u001b[1;32mc:\\Users\\acer\\anaconda3\\envs\\tensorflow_env\\lib\\site-packages\\pandas\\io\\parsers\\readers.py:605\u001b[0m, in \u001b[0;36m_read\u001b[1;34m(filepath_or_buffer, kwds)\u001b[0m\n\u001b[0;32m    602\u001b[0m _validate_names(kwds\u001b[39m.\u001b[39mget(\u001b[39m\"\u001b[39m\u001b[39mnames\u001b[39m\u001b[39m\"\u001b[39m, \u001b[39mNone\u001b[39;00m))\n\u001b[0;32m    604\u001b[0m \u001b[39m# Create the parser.\u001b[39;00m\n\u001b[1;32m--> 605\u001b[0m parser \u001b[39m=\u001b[39m TextFileReader(filepath_or_buffer, \u001b[39m*\u001b[39m\u001b[39m*\u001b[39mkwds)\n\u001b[0;32m    607\u001b[0m \u001b[39mif\u001b[39;00m chunksize \u001b[39mor\u001b[39;00m iterator:\n\u001b[0;32m    608\u001b[0m     \u001b[39mreturn\u001b[39;00m parser\n",
      "File \u001b[1;32mc:\\Users\\acer\\anaconda3\\envs\\tensorflow_env\\lib\\site-packages\\pandas\\io\\parsers\\readers.py:1442\u001b[0m, in \u001b[0;36mTextFileReader.__init__\u001b[1;34m(self, f, engine, **kwds)\u001b[0m\n\u001b[0;32m   1439\u001b[0m     \u001b[39mself\u001b[39m\u001b[39m.\u001b[39moptions[\u001b[39m\"\u001b[39m\u001b[39mhas_index_names\u001b[39m\u001b[39m\"\u001b[39m] \u001b[39m=\u001b[39m kwds[\u001b[39m\"\u001b[39m\u001b[39mhas_index_names\u001b[39m\u001b[39m\"\u001b[39m]\n\u001b[0;32m   1441\u001b[0m \u001b[39mself\u001b[39m\u001b[39m.\u001b[39mhandles: IOHandles \u001b[39m|\u001b[39m \u001b[39mNone\u001b[39;00m \u001b[39m=\u001b[39m \u001b[39mNone\u001b[39;00m\n\u001b[1;32m-> 1442\u001b[0m \u001b[39mself\u001b[39m\u001b[39m.\u001b[39m_engine \u001b[39m=\u001b[39m \u001b[39mself\u001b[39;49m\u001b[39m.\u001b[39;49m_make_engine(f, \u001b[39mself\u001b[39;49m\u001b[39m.\u001b[39;49mengine)\n",
      "File \u001b[1;32mc:\\Users\\acer\\anaconda3\\envs\\tensorflow_env\\lib\\site-packages\\pandas\\io\\parsers\\readers.py:1735\u001b[0m, in \u001b[0;36mTextFileReader._make_engine\u001b[1;34m(self, f, engine)\u001b[0m\n\u001b[0;32m   1733\u001b[0m     \u001b[39mif\u001b[39;00m \u001b[39m\"\u001b[39m\u001b[39mb\u001b[39m\u001b[39m\"\u001b[39m \u001b[39mnot\u001b[39;00m \u001b[39min\u001b[39;00m mode:\n\u001b[0;32m   1734\u001b[0m         mode \u001b[39m+\u001b[39m\u001b[39m=\u001b[39m \u001b[39m\"\u001b[39m\u001b[39mb\u001b[39m\u001b[39m\"\u001b[39m\n\u001b[1;32m-> 1735\u001b[0m \u001b[39mself\u001b[39m\u001b[39m.\u001b[39mhandles \u001b[39m=\u001b[39m get_handle(\n\u001b[0;32m   1736\u001b[0m     f,\n\u001b[0;32m   1737\u001b[0m     mode,\n\u001b[0;32m   1738\u001b[0m     encoding\u001b[39m=\u001b[39;49m\u001b[39mself\u001b[39;49m\u001b[39m.\u001b[39;49moptions\u001b[39m.\u001b[39;49mget(\u001b[39m\"\u001b[39;49m\u001b[39mencoding\u001b[39;49m\u001b[39m\"\u001b[39;49m, \u001b[39mNone\u001b[39;49;00m),\n\u001b[0;32m   1739\u001b[0m     compression\u001b[39m=\u001b[39;49m\u001b[39mself\u001b[39;49m\u001b[39m.\u001b[39;49moptions\u001b[39m.\u001b[39;49mget(\u001b[39m\"\u001b[39;49m\u001b[39mcompression\u001b[39;49m\u001b[39m\"\u001b[39;49m, \u001b[39mNone\u001b[39;49;00m),\n\u001b[0;32m   1740\u001b[0m     memory_map\u001b[39m=\u001b[39;49m\u001b[39mself\u001b[39;49m\u001b[39m.\u001b[39;49moptions\u001b[39m.\u001b[39;49mget(\u001b[39m\"\u001b[39;49m\u001b[39mmemory_map\u001b[39;49m\u001b[39m\"\u001b[39;49m, \u001b[39mFalse\u001b[39;49;00m),\n\u001b[0;32m   1741\u001b[0m     is_text\u001b[39m=\u001b[39;49mis_text,\n\u001b[0;32m   1742\u001b[0m     errors\u001b[39m=\u001b[39;49m\u001b[39mself\u001b[39;49m\u001b[39m.\u001b[39;49moptions\u001b[39m.\u001b[39;49mget(\u001b[39m\"\u001b[39;49m\u001b[39mencoding_errors\u001b[39;49m\u001b[39m\"\u001b[39;49m, \u001b[39m\"\u001b[39;49m\u001b[39mstrict\u001b[39;49m\u001b[39m\"\u001b[39;49m),\n\u001b[0;32m   1743\u001b[0m     storage_options\u001b[39m=\u001b[39;49m\u001b[39mself\u001b[39;49m\u001b[39m.\u001b[39;49moptions\u001b[39m.\u001b[39;49mget(\u001b[39m\"\u001b[39;49m\u001b[39mstorage_options\u001b[39;49m\u001b[39m\"\u001b[39;49m, \u001b[39mNone\u001b[39;49;00m),\n\u001b[0;32m   1744\u001b[0m )\n\u001b[0;32m   1745\u001b[0m \u001b[39massert\u001b[39;00m \u001b[39mself\u001b[39m\u001b[39m.\u001b[39mhandles \u001b[39mis\u001b[39;00m \u001b[39mnot\u001b[39;00m \u001b[39mNone\u001b[39;00m\n\u001b[0;32m   1746\u001b[0m f \u001b[39m=\u001b[39m \u001b[39mself\u001b[39m\u001b[39m.\u001b[39mhandles\u001b[39m.\u001b[39mhandle\n",
      "File \u001b[1;32mc:\\Users\\acer\\anaconda3\\envs\\tensorflow_env\\lib\\site-packages\\pandas\\io\\common.py:856\u001b[0m, in \u001b[0;36mget_handle\u001b[1;34m(path_or_buf, mode, encoding, compression, memory_map, is_text, errors, storage_options)\u001b[0m\n\u001b[0;32m    851\u001b[0m \u001b[39melif\u001b[39;00m \u001b[39misinstance\u001b[39m(handle, \u001b[39mstr\u001b[39m):\n\u001b[0;32m    852\u001b[0m     \u001b[39m# Check whether the filename is to be opened in binary mode.\u001b[39;00m\n\u001b[0;32m    853\u001b[0m     \u001b[39m# Binary mode does not support 'encoding' and 'newline'.\u001b[39;00m\n\u001b[0;32m    854\u001b[0m     \u001b[39mif\u001b[39;00m ioargs\u001b[39m.\u001b[39mencoding \u001b[39mand\u001b[39;00m \u001b[39m\"\u001b[39m\u001b[39mb\u001b[39m\u001b[39m\"\u001b[39m \u001b[39mnot\u001b[39;00m \u001b[39min\u001b[39;00m ioargs\u001b[39m.\u001b[39mmode:\n\u001b[0;32m    855\u001b[0m         \u001b[39m# Encoding\u001b[39;00m\n\u001b[1;32m--> 856\u001b[0m         handle \u001b[39m=\u001b[39m \u001b[39mopen\u001b[39;49m(\n\u001b[0;32m    857\u001b[0m             handle,\n\u001b[0;32m    858\u001b[0m             ioargs\u001b[39m.\u001b[39;49mmode,\n\u001b[0;32m    859\u001b[0m             encoding\u001b[39m=\u001b[39;49mioargs\u001b[39m.\u001b[39;49mencoding,\n\u001b[0;32m    860\u001b[0m             errors\u001b[39m=\u001b[39;49merrors,\n\u001b[0;32m    861\u001b[0m             newline\u001b[39m=\u001b[39;49m\u001b[39m\"\u001b[39;49m\u001b[39m\"\u001b[39;49m,\n\u001b[0;32m    862\u001b[0m         )\n\u001b[0;32m    863\u001b[0m     \u001b[39melse\u001b[39;00m:\n\u001b[0;32m    864\u001b[0m         \u001b[39m# Binary mode\u001b[39;00m\n\u001b[0;32m    865\u001b[0m         handle \u001b[39m=\u001b[39m \u001b[39mopen\u001b[39m(handle, ioargs\u001b[39m.\u001b[39mmode)\n",
      "\u001b[1;31mFileNotFoundError\u001b[0m: [Errno 2] No such file or directory: 'C:\\\\Users\\\\acer\\\\Desktop\\\\loan-approval-prediction-main\\\\data\\\\loan_train.csv'"
     ]
    }
   ],
   "source": [
    "# Import the training set\n",
    "df_train = pd.read_csv(\n",
    "    filepath_or_buffer = r'C:\\Users\\acer\\Desktop\\loan-approval-prediction-main\\data\\loan_train.csv'\n",
    ")"
   ]
  },
  {
   "cell_type": "code",
   "execution_count": null,
   "id": "collect-pointer",
   "metadata": {},
   "outputs": [
    {
     "name": "stdout",
     "output_type": "stream",
     "text": [
      "Data dimension: 464 rows and 13 columns\n"
     ]
    },
    {
     "data": {
      "text/html": [
       "<div>\n",
       "<style scoped>\n",
       "    .dataframe tbody tr th:only-of-type {\n",
       "        vertical-align: middle;\n",
       "    }\n",
       "\n",
       "    .dataframe tbody tr th {\n",
       "        vertical-align: top;\n",
       "    }\n",
       "\n",
       "    .dataframe thead th {\n",
       "        text-align: right;\n",
       "    }\n",
       "</style>\n",
       "<table border=\"1\" class=\"dataframe\">\n",
       "  <thead>\n",
       "    <tr style=\"text-align: right;\">\n",
       "      <th></th>\n",
       "      <th>Loan_ID</th>\n",
       "      <th>Gender</th>\n",
       "      <th>Married</th>\n",
       "      <th>Dependents</th>\n",
       "      <th>Education</th>\n",
       "      <th>Self_Employed</th>\n",
       "      <th>ApplicantIncome</th>\n",
       "      <th>CoapplicantIncome</th>\n",
       "      <th>LoanAmount</th>\n",
       "      <th>Loan_Amount_Term</th>\n",
       "      <th>Credit_History</th>\n",
       "      <th>Property_Area</th>\n",
       "      <th>Loan_Status</th>\n",
       "    </tr>\n",
       "  </thead>\n",
       "  <tbody>\n",
       "    <tr>\n",
       "      <th>0</th>\n",
       "      <td>LP002305</td>\n",
       "      <td>Female</td>\n",
       "      <td>No</td>\n",
       "      <td>0</td>\n",
       "      <td>Graduate</td>\n",
       "      <td>No</td>\n",
       "      <td>4547</td>\n",
       "      <td>0.0</td>\n",
       "      <td>115.0</td>\n",
       "      <td>360.0</td>\n",
       "      <td>1.0</td>\n",
       "      <td>Semiurban</td>\n",
       "      <td>1</td>\n",
       "    </tr>\n",
       "    <tr>\n",
       "      <th>1</th>\n",
       "      <td>LP001715</td>\n",
       "      <td>Male</td>\n",
       "      <td>Yes</td>\n",
       "      <td>3+</td>\n",
       "      <td>Not Graduate</td>\n",
       "      <td>Yes</td>\n",
       "      <td>5703</td>\n",
       "      <td>0.0</td>\n",
       "      <td>130.0</td>\n",
       "      <td>360.0</td>\n",
       "      <td>1.0</td>\n",
       "      <td>Rural</td>\n",
       "      <td>1</td>\n",
       "    </tr>\n",
       "    <tr>\n",
       "      <th>2</th>\n",
       "      <td>LP002086</td>\n",
       "      <td>Female</td>\n",
       "      <td>Yes</td>\n",
       "      <td>0</td>\n",
       "      <td>Graduate</td>\n",
       "      <td>No</td>\n",
       "      <td>4333</td>\n",
       "      <td>2451.0</td>\n",
       "      <td>110.0</td>\n",
       "      <td>360.0</td>\n",
       "      <td>1.0</td>\n",
       "      <td>Urban</td>\n",
       "      <td>0</td>\n",
       "    </tr>\n",
       "    <tr>\n",
       "      <th>3</th>\n",
       "      <td>LP001136</td>\n",
       "      <td>Male</td>\n",
       "      <td>Yes</td>\n",
       "      <td>0</td>\n",
       "      <td>Not Graduate</td>\n",
       "      <td>Yes</td>\n",
       "      <td>4695</td>\n",
       "      <td>0.0</td>\n",
       "      <td>96.0</td>\n",
       "      <td>360.0</td>\n",
       "      <td>1.0</td>\n",
       "      <td>Urban</td>\n",
       "      <td>1</td>\n",
       "    </tr>\n",
       "    <tr>\n",
       "      <th>4</th>\n",
       "      <td>LP002529</td>\n",
       "      <td>Male</td>\n",
       "      <td>Yes</td>\n",
       "      <td>2</td>\n",
       "      <td>Graduate</td>\n",
       "      <td>No</td>\n",
       "      <td>6700</td>\n",
       "      <td>1750.0</td>\n",
       "      <td>230.0</td>\n",
       "      <td>300.0</td>\n",
       "      <td>1.0</td>\n",
       "      <td>Semiurban</td>\n",
       "      <td>1</td>\n",
       "    </tr>\n",
       "  </tbody>\n",
       "</table>\n",
       "</div>"
      ],
      "text/plain": [
       "    Loan_ID  Gender Married Dependents     Education Self_Employed  \\\n",
       "0  LP002305  Female      No          0      Graduate            No   \n",
       "1  LP001715    Male     Yes         3+  Not Graduate           Yes   \n",
       "2  LP002086  Female     Yes          0      Graduate            No   \n",
       "3  LP001136    Male     Yes          0  Not Graduate           Yes   \n",
       "4  LP002529    Male     Yes          2      Graduate            No   \n",
       "\n",
       "   ApplicantIncome  CoapplicantIncome  LoanAmount  Loan_Amount_Term  \\\n",
       "0             4547                0.0       115.0             360.0   \n",
       "1             5703                0.0       130.0             360.0   \n",
       "2             4333             2451.0       110.0             360.0   \n",
       "3             4695                0.0        96.0             360.0   \n",
       "4             6700             1750.0       230.0             300.0   \n",
       "\n",
       "   Credit_History Property_Area  Loan_Status  \n",
       "0             1.0     Semiurban            1  \n",
       "1             1.0         Rural            1  \n",
       "2             1.0         Urban            0  \n",
       "3             1.0         Urban            1  \n",
       "4             1.0     Semiurban            1  "
      ]
     },
     "execution_count": 14,
     "metadata": {},
     "output_type": "execute_result"
    }
   ],
   "source": [
    "# Data dimension\n",
    "print('Data dimension: {} rows and {} columns'.format(len(df_train), len(df_train.columns)))\n",
    "df_train.head()"
   ]
  },
  {
   "cell_type": "markdown",
   "id": "elegant-recorder",
   "metadata": {},
   "source": [
    "### Testing data"
   ]
  },
  {
   "cell_type": "code",
   "execution_count": null,
   "id": "surprised-organ",
   "metadata": {},
   "outputs": [],
   "source": [
    "# Import the testing set\n",
    "df_test = pd.read_csv(\n",
    "    filepath_or_buffer = r'C:\\Users\\acer\\Desktop\\loan-approval-prediction-main\\data\\loan_test.csv'\n",
    ")"
   ]
  },
  {
   "cell_type": "code",
   "execution_count": null,
   "id": "median-retreat",
   "metadata": {
    "scrolled": true
   },
   "outputs": [
    {
     "name": "stdout",
     "output_type": "stream",
     "text": [
      "Data dimension: 123 rows and 12 columns\n"
     ]
    },
    {
     "data": {
      "text/html": [
       "<div>\n",
       "<style scoped>\n",
       "    .dataframe tbody tr th:only-of-type {\n",
       "        vertical-align: middle;\n",
       "    }\n",
       "\n",
       "    .dataframe tbody tr th {\n",
       "        vertical-align: top;\n",
       "    }\n",
       "\n",
       "    .dataframe thead th {\n",
       "        text-align: right;\n",
       "    }\n",
       "</style>\n",
       "<table border=\"1\" class=\"dataframe\">\n",
       "  <thead>\n",
       "    <tr style=\"text-align: right;\">\n",
       "      <th></th>\n",
       "      <th>Loan_ID</th>\n",
       "      <th>Gender</th>\n",
       "      <th>Married</th>\n",
       "      <th>Dependents</th>\n",
       "      <th>Education</th>\n",
       "      <th>Self_Employed</th>\n",
       "      <th>ApplicantIncome</th>\n",
       "      <th>CoapplicantIncome</th>\n",
       "      <th>LoanAmount</th>\n",
       "      <th>Loan_Amount_Term</th>\n",
       "      <th>Credit_History</th>\n",
       "      <th>Property_Area</th>\n",
       "    </tr>\n",
       "  </thead>\n",
       "  <tbody>\n",
       "    <tr>\n",
       "      <th>0</th>\n",
       "      <td>LP001116</td>\n",
       "      <td>Male</td>\n",
       "      <td>No</td>\n",
       "      <td>0</td>\n",
       "      <td>Not Graduate</td>\n",
       "      <td>No</td>\n",
       "      <td>3748</td>\n",
       "      <td>1668.0</td>\n",
       "      <td>110.0</td>\n",
       "      <td>360.0</td>\n",
       "      <td>1.0</td>\n",
       "      <td>Semiurban</td>\n",
       "    </tr>\n",
       "    <tr>\n",
       "      <th>1</th>\n",
       "      <td>LP001488</td>\n",
       "      <td>Male</td>\n",
       "      <td>Yes</td>\n",
       "      <td>3+</td>\n",
       "      <td>Graduate</td>\n",
       "      <td>No</td>\n",
       "      <td>4000</td>\n",
       "      <td>7750.0</td>\n",
       "      <td>290.0</td>\n",
       "      <td>360.0</td>\n",
       "      <td>1.0</td>\n",
       "      <td>Semiurban</td>\n",
       "    </tr>\n",
       "    <tr>\n",
       "      <th>2</th>\n",
       "      <td>LP002138</td>\n",
       "      <td>Male</td>\n",
       "      <td>Yes</td>\n",
       "      <td>0</td>\n",
       "      <td>Graduate</td>\n",
       "      <td>No</td>\n",
       "      <td>2625</td>\n",
       "      <td>6250.0</td>\n",
       "      <td>187.0</td>\n",
       "      <td>360.0</td>\n",
       "      <td>1.0</td>\n",
       "      <td>Rural</td>\n",
       "    </tr>\n",
       "    <tr>\n",
       "      <th>3</th>\n",
       "      <td>LP002284</td>\n",
       "      <td>Male</td>\n",
       "      <td>No</td>\n",
       "      <td>0</td>\n",
       "      <td>Not Graduate</td>\n",
       "      <td>No</td>\n",
       "      <td>3902</td>\n",
       "      <td>1666.0</td>\n",
       "      <td>109.0</td>\n",
       "      <td>360.0</td>\n",
       "      <td>1.0</td>\n",
       "      <td>Rural</td>\n",
       "    </tr>\n",
       "    <tr>\n",
       "      <th>4</th>\n",
       "      <td>LP002328</td>\n",
       "      <td>Male</td>\n",
       "      <td>Yes</td>\n",
       "      <td>0</td>\n",
       "      <td>Not Graduate</td>\n",
       "      <td>No</td>\n",
       "      <td>6096</td>\n",
       "      <td>0.0</td>\n",
       "      <td>218.0</td>\n",
       "      <td>360.0</td>\n",
       "      <td>0.0</td>\n",
       "      <td>Rural</td>\n",
       "    </tr>\n",
       "  </tbody>\n",
       "</table>\n",
       "</div>"
      ],
      "text/plain": [
       "    Loan_ID Gender Married Dependents     Education Self_Employed  \\\n",
       "0  LP001116   Male      No          0  Not Graduate            No   \n",
       "1  LP001488   Male     Yes         3+      Graduate            No   \n",
       "2  LP002138   Male     Yes          0      Graduate            No   \n",
       "3  LP002284   Male      No          0  Not Graduate            No   \n",
       "4  LP002328   Male     Yes          0  Not Graduate            No   \n",
       "\n",
       "   ApplicantIncome  CoapplicantIncome  LoanAmount  Loan_Amount_Term  \\\n",
       "0             3748             1668.0       110.0             360.0   \n",
       "1             4000             7750.0       290.0             360.0   \n",
       "2             2625             6250.0       187.0             360.0   \n",
       "3             3902             1666.0       109.0             360.0   \n",
       "4             6096                0.0       218.0             360.0   \n",
       "\n",
       "   Credit_History Property_Area  \n",
       "0             1.0     Semiurban  \n",
       "1             1.0     Semiurban  \n",
       "2             1.0         Rural  \n",
       "3             1.0         Rural  \n",
       "4             0.0         Rural  "
      ]
     },
     "execution_count": 16,
     "metadata": {},
     "output_type": "execute_result"
    }
   ],
   "source": [
    "# Data dimension\n",
    "print('Data dimension: {} rows and {} columns'.format(len(df_test), len(df_test.columns)))\n",
    "df_test.head()"
   ]
  },
  {
   "cell_type": "markdown",
   "id": "urban-township",
   "metadata": {},
   "source": [
    "## Data preprocessing"
   ]
  },
  {
   "cell_type": "markdown",
   "id": "elder-creature",
   "metadata": {},
   "source": [
    "### Training data"
   ]
  },
  {
   "cell_type": "markdown",
   "id": "expected-fountain",
   "metadata": {},
   "source": [
    "#### Scale measurement"
   ]
  },
  {
   "cell_type": "markdown",
   "id": "demographic-enclosure",
   "metadata": {},
   "source": [
    "The method of `info` will show us the metadata or information about the columns in a data frame. It undirectly specifies the scale measurement of a given columns in a data frame. However, it can be misleading. So, we must modify the scale measurement or column types based on column characteristic."
   ]
  },
  {
   "cell_type": "code",
   "execution_count": null,
   "id": "radical-stroke",
   "metadata": {
    "scrolled": false
   },
   "outputs": [
    {
     "name": "stdout",
     "output_type": "stream",
     "text": [
      "<class 'pandas.core.frame.DataFrame'>\n",
      "RangeIndex: 464 entries, 0 to 463\n",
      "Data columns (total 13 columns):\n",
      " #   Column             Non-Null Count  Dtype  \n",
      "---  ------             --------------  -----  \n",
      " 0   Loan_ID            464 non-null    object \n",
      " 1   Gender             464 non-null    object \n",
      " 2   Married            464 non-null    object \n",
      " 3   Dependents         464 non-null    object \n",
      " 4   Education          464 non-null    object \n",
      " 5   Self_Employed      464 non-null    object \n",
      " 6   ApplicantIncome    464 non-null    int64  \n",
      " 7   CoapplicantIncome  464 non-null    float64\n",
      " 8   LoanAmount         464 non-null    float64\n",
      " 9   Loan_Amount_Term   464 non-null    float64\n",
      " 10  Credit_History     464 non-null    float64\n",
      " 11  Property_Area      464 non-null    object \n",
      " 12  Loan_Status        464 non-null    int64  \n",
      "dtypes: float64(4), int64(2), object(7)\n",
      "memory usage: 47.2+ KB\n"
     ]
    }
   ],
   "source": [
    "# Data frame metadata\n",
    "df_train.info()"
   ]
  },
  {
   "cell_type": "code",
   "execution_count": null,
   "id": "northern-bulletin",
   "metadata": {},
   "outputs": [
    {
     "data": {
      "text/plain": [
       "Loan_ID           object\n",
       "Gender            object\n",
       "Married           object\n",
       "Dependents        object\n",
       "Education         object\n",
       "Self_Employed     object\n",
       "Credit_History    object\n",
       "Property_Area     object\n",
       "dtype: object"
      ]
     },
     "execution_count": 18,
     "metadata": {},
     "output_type": "execute_result"
    }
   ],
   "source": [
    "# Change column types\n",
    "df_train = df_train.astype({'Credit_History': object, 'Loan_Status': int})\n",
    "df_train.select_dtypes(include = ['object']).dtypes"
   ]
  },
  {
   "cell_type": "code",
   "execution_count": null,
   "id": "collectible-leave",
   "metadata": {
    "scrolled": true
   },
   "outputs": [
    {
     "name": "stdout",
     "output_type": "stream",
     "text": [
      "LP002305    1\n",
      "LP002720    1\n",
      "LP001671    1\n",
      "LP001137    1\n",
      "LP002911    1\n",
      "           ..\n",
      "LP002738    1\n",
      "LP001807    1\n",
      "LP002990    1\n",
      "LP002917    1\n",
      "LP002777    1\n",
      "Name: Loan_ID, Length: 464, dtype: int64 \n",
      "\n",
      "Male      377\n",
      "Female     87\n",
      "Name: Gender, dtype: int64 \n",
      "\n",
      "Yes    306\n",
      "No     158\n",
      "Name: Married, dtype: int64 \n",
      "\n",
      "0     268\n",
      "1      82\n",
      "2      75\n",
      "3+     39\n",
      "Name: Dependents, dtype: int64 \n",
      "\n",
      "Graduate        367\n",
      "Not Graduate     97\n",
      "Name: Education, dtype: int64 \n",
      "\n",
      "No     404\n",
      "Yes     60\n",
      "Name: Self_Employed, dtype: int64 \n",
      "\n",
      "1.0    391\n",
      "0.0     73\n",
      "Name: Credit_History, dtype: int64 \n",
      "\n",
      "Semiurban    178\n",
      "Rural        143\n",
      "Urban        143\n",
      "Name: Property_Area, dtype: int64 \n",
      "\n"
     ]
    }
   ],
   "source": [
    "# Summary statistics of categorical columns\n",
    "for i in df_train.select_dtypes('object').columns:\n",
    "    print(df_train[i].value_counts(),'\\n')"
   ]
  },
  {
   "cell_type": "markdown",
   "id": "friendly-landscape",
   "metadata": {},
   "source": [
    "#### Handle missing values"
   ]
  },
  {
   "cell_type": "code",
   "execution_count": null,
   "id": "reported-duration",
   "metadata": {},
   "outputs": [
    {
     "data": {
      "text/plain": [
       "Loan_ID              0\n",
       "Gender               0\n",
       "Married              0\n",
       "Dependents           0\n",
       "Education            0\n",
       "Self_Employed        0\n",
       "ApplicantIncome      0\n",
       "CoapplicantIncome    0\n",
       "LoanAmount           0\n",
       "Loan_Amount_Term     0\n",
       "Credit_History       0\n",
       "Property_Area        0\n",
       "Loan_Status          0\n",
       "dtype: int64"
      ]
     },
     "execution_count": 20,
     "metadata": {},
     "output_type": "execute_result"
    }
   ],
   "source": [
    "# Check missing values\n",
    "df_train.isna().sum()"
   ]
  },
  {
   "cell_type": "markdown",
   "id": "indian-burden",
   "metadata": {},
   "source": [
    "**Note**: Consideration to remove missing values is based on a business logic. The concept of *garbage in garbage out* applies. Without any relevant domain knowledges of loan problem, the interpolation will lead to the biased result.\n",
    "\n",
    "Instead of dropping the missing values brutally, we try to inspect the relevant variables in the data in order to suggest the consideration for the next analysis"
   ]
  },
  {
   "cell_type": "markdown",
   "id": "composed-staff",
   "metadata": {},
   "source": [
    "##### `Dependents`"
   ]
  },
  {
   "cell_type": "code",
   "execution_count": null,
   "id": "pleasant-mortality",
   "metadata": {},
   "outputs": [
    {
     "name": "stdout",
     "output_type": "stream",
     "text": [
      "Number of missing dependents is about 0 rows\n"
     ]
    }
   ],
   "source": [
    "print('Number of missing dependents is about {} rows'.format(df_train['Dependents'].isna().sum()))"
   ]
  },
  {
   "cell_type": "code",
   "execution_count": null,
   "id": "prescribed-sarah",
   "metadata": {},
   "outputs": [],
   "source": [
    "# Replace missing valuess with \"0\"\n",
    "df_train['Dependents'].fillna(value = '0', inplace = True) "
   ]
  },
  {
   "cell_type": "markdown",
   "id": "applied-interpretation",
   "metadata": {},
   "source": [
    "##### `Self_Employed`"
   ]
  },
  {
   "cell_type": "code",
   "execution_count": null,
   "id": "metropolitan-wings",
   "metadata": {},
   "outputs": [
    {
     "name": "stdout",
     "output_type": "stream",
     "text": [
      "Number of missing Self_Employed is about 0 rows\n"
     ]
    }
   ],
   "source": [
    "print('Number of missing Self_Employed is about {} rows'.format(df_train['Self_Employed'].isna().sum()))"
   ]
  },
  {
   "cell_type": "code",
   "execution_count": null,
   "id": "found-genesis",
   "metadata": {},
   "outputs": [],
   "source": [
    "# Replace missing values with \"No\"\n",
    "df_train['Self_Employed'].fillna(value = 'No', inplace = True) "
   ]
  },
  {
   "cell_type": "markdown",
   "id": "finished-tuner",
   "metadata": {},
   "source": [
    "##### `Loan_Amount_Term`"
   ]
  },
  {
   "cell_type": "code",
   "execution_count": null,
   "id": "measured-bracelet",
   "metadata": {},
   "outputs": [
    {
     "data": {
      "text/html": [
       "<div>\n",
       "<style scoped>\n",
       "    .dataframe tbody tr th:only-of-type {\n",
       "        vertical-align: middle;\n",
       "    }\n",
       "\n",
       "    .dataframe tbody tr th {\n",
       "        vertical-align: top;\n",
       "    }\n",
       "\n",
       "    .dataframe thead tr th {\n",
       "        text-align: left;\n",
       "    }\n",
       "\n",
       "    .dataframe thead tr:last-of-type th {\n",
       "        text-align: right;\n",
       "    }\n",
       "</style>\n",
       "<table border=\"1\" class=\"dataframe\">\n",
       "  <thead>\n",
       "    <tr>\n",
       "      <th></th>\n",
       "      <th colspan=\"8\" halign=\"left\">Loan_Amount_Term</th>\n",
       "    </tr>\n",
       "    <tr>\n",
       "      <th></th>\n",
       "      <th>count</th>\n",
       "      <th>mean</th>\n",
       "      <th>std</th>\n",
       "      <th>min</th>\n",
       "      <th>25%</th>\n",
       "      <th>50%</th>\n",
       "      <th>75%</th>\n",
       "      <th>max</th>\n",
       "    </tr>\n",
       "    <tr>\n",
       "      <th>Loan_Status</th>\n",
       "      <th></th>\n",
       "      <th></th>\n",
       "      <th></th>\n",
       "      <th></th>\n",
       "      <th></th>\n",
       "      <th></th>\n",
       "      <th></th>\n",
       "      <th></th>\n",
       "    </tr>\n",
       "  </thead>\n",
       "  <tbody>\n",
       "    <tr>\n",
       "      <th>0</th>\n",
       "      <td>134.0</td>\n",
       "      <td>343.253731</td>\n",
       "      <td>72.658920</td>\n",
       "      <td>36.0</td>\n",
       "      <td>360.0</td>\n",
       "      <td>360.0</td>\n",
       "      <td>360.0</td>\n",
       "      <td>480.0</td>\n",
       "    </tr>\n",
       "    <tr>\n",
       "      <th>1</th>\n",
       "      <td>330.0</td>\n",
       "      <td>341.163636</td>\n",
       "      <td>63.680079</td>\n",
       "      <td>12.0</td>\n",
       "      <td>360.0</td>\n",
       "      <td>360.0</td>\n",
       "      <td>360.0</td>\n",
       "      <td>480.0</td>\n",
       "    </tr>\n",
       "  </tbody>\n",
       "</table>\n",
       "</div>"
      ],
      "text/plain": [
       "            Loan_Amount_Term                                             \\\n",
       "                       count        mean        std   min    25%    50%   \n",
       "Loan_Status                                                               \n",
       "0                      134.0  343.253731  72.658920  36.0  360.0  360.0   \n",
       "1                      330.0  341.163636  63.680079  12.0  360.0  360.0   \n",
       "\n",
       "                           \n",
       "               75%    max  \n",
       "Loan_Status                \n",
       "0            360.0  480.0  \n",
       "1            360.0  480.0  "
      ]
     },
     "execution_count": 25,
     "metadata": {},
     "output_type": "execute_result"
    }
   ],
   "source": [
    "df_train[['Loan_Amount_Term', 'Loan_Status']].groupby('Loan_Status').describe()"
   ]
  },
  {
   "cell_type": "code",
   "execution_count": null,
   "id": "elementary-stroke",
   "metadata": {},
   "outputs": [
    {
     "name": "stdout",
     "output_type": "stream",
     "text": [
      "Percentile 20th: 360.0\n"
     ]
    }
   ],
   "source": [
    "print('Percentile 20th: {}'.format(df_train['Loan_Amount_Term'].quantile(q = 0.2)))"
   ]
  },
  {
   "cell_type": "code",
   "execution_count": null,
   "id": "burning-cornwall",
   "metadata": {},
   "outputs": [],
   "source": [
    "# Replace missing values with \"360\"\n",
    "df_train['Loan_Amount_Term'].fillna(value = 360, inplace = True)"
   ]
  },
  {
   "cell_type": "markdown",
   "id": "english-cargo",
   "metadata": {},
   "source": [
    "##### `Credit_History`"
   ]
  },
  {
   "cell_type": "code",
   "execution_count": null,
   "id": "standard-sauce",
   "metadata": {},
   "outputs": [
    {
     "data": {
      "text/html": [
       "<div>\n",
       "<style scoped>\n",
       "    .dataframe tbody tr th:only-of-type {\n",
       "        vertical-align: middle;\n",
       "    }\n",
       "\n",
       "    .dataframe tbody tr th {\n",
       "        vertical-align: top;\n",
       "    }\n",
       "\n",
       "    .dataframe thead th {\n",
       "        text-align: right;\n",
       "    }\n",
       "</style>\n",
       "<table border=\"1\" class=\"dataframe\">\n",
       "  <thead>\n",
       "    <tr style=\"text-align: right;\">\n",
       "      <th></th>\n",
       "      <th>Credit History</th>\n",
       "      <th>No</th>\n",
       "      <th>Yes</th>\n",
       "      <th>All</th>\n",
       "    </tr>\n",
       "  </thead>\n",
       "  <tbody>\n",
       "    <tr>\n",
       "      <th>0</th>\n",
       "      <td>0.0</td>\n",
       "      <td>67</td>\n",
       "      <td>6</td>\n",
       "      <td>73</td>\n",
       "    </tr>\n",
       "    <tr>\n",
       "      <th>1</th>\n",
       "      <td>1.0</td>\n",
       "      <td>67</td>\n",
       "      <td>324</td>\n",
       "      <td>391</td>\n",
       "    </tr>\n",
       "  </tbody>\n",
       "</table>\n",
       "</div>"
      ],
      "text/plain": [
       "  Credit History  No  Yes  All\n",
       "0            0.0  67    6   73\n",
       "1            1.0  67  324  391"
      ]
     },
     "execution_count": 28,
     "metadata": {},
     "output_type": "execute_result"
    }
   ],
   "source": [
    "# Cross tabulation of credit history and loan status\n",
    "df_cred_hist = pd.crosstab(df_train['Credit_History'], df_train['Loan_Status'], margins = True).reset_index()\n",
    "# Remove index name\n",
    "df_cred_hist.columns.name = None\n",
    "# Remove last row for total column attribute\n",
    "df_cred_hist = df_cred_hist.drop([len(df_cred_hist) - 1], axis = 0)\n",
    "df_cred_hist.rename(columns = {'Credit_History':'Credit History', 0:'No', 1:'Yes'}, inplace = True)\n",
    "df_cred_hist"
   ]
  },
  {
   "cell_type": "code",
   "execution_count": null,
   "id": "analyzed-setup",
   "metadata": {},
   "outputs": [
    {
     "name": "stdout",
     "output_type": "stream",
     "text": [
      "Number of rows with Loan_Status is No but Credit_History is NaN  : 0\n",
      "Number of rows with Loan_Status is Yes but Credit_History is NaN : 0\n"
     ]
    }
   ],
   "source": [
    "# Slice the data frame based on loan status\n",
    "pos_cred_hist0 = df_train[(df_train['Credit_History'].isna()) & (df_train['Loan_Status'] == 0)]\n",
    "pos_cred_hist1 = df_train[(df_train['Credit_History'].isna()) & (df_train['Loan_Status'] == 1)]\n",
    "print('Number of rows with Loan_Status is No but Credit_History is NaN  : {}'.format(len(pos_cred_hist0)))\n",
    "print('Number of rows with Loan_Status is Yes but Credit_History is NaN : {}'.format(len(pos_cred_hist1)))"
   ]
  },
  {
   "cell_type": "code",
   "execution_count": null,
   "id": "metric-shield",
   "metadata": {},
   "outputs": [],
   "source": [
    "# Replace the missing values with a specific condition\n",
    "credit_loan = zip(df_train['Credit_History'], df_train['Loan_Status'])\n",
    "df_train['Credit_History'] = [\n",
    "                                0.0 if np.isnan(credit) and status == 0 else\n",
    "                                1.0 if np.isnan(credit) and status == 1 else\n",
    "                                credit for credit, status in credit_loan\n",
    "                             ]"
   ]
  },
  {
   "cell_type": "markdown",
   "id": "unauthorized-growth",
   "metadata": {},
   "source": [
    "##### `Gender` and `Loan Amount`"
   ]
  },
  {
   "cell_type": "code",
   "execution_count": null,
   "id": "south-amber",
   "metadata": {},
   "outputs": [],
   "source": [
    "# Drop missing values\n",
    "df_train.dropna(axis = 0, how = 'any', inplace = True)"
   ]
  },
  {
   "cell_type": "code",
   "execution_count": null,
   "id": "applicable-thread",
   "metadata": {},
   "outputs": [
    {
     "data": {
      "text/plain": [
       "Loan_ID              0\n",
       "Gender               0\n",
       "Married              0\n",
       "Dependents           0\n",
       "Education            0\n",
       "Self_Employed        0\n",
       "ApplicantIncome      0\n",
       "CoapplicantIncome    0\n",
       "LoanAmount           0\n",
       "Loan_Amount_Term     0\n",
       "Credit_History       0\n",
       "Property_Area        0\n",
       "Loan_Status          0\n",
       "dtype: int64"
      ]
     },
     "execution_count": 32,
     "metadata": {},
     "output_type": "execute_result"
    }
   ],
   "source": [
    "# Check missing value\n",
    "df_train.isna().sum()"
   ]
  },
  {
   "cell_type": "markdown",
   "id": "sustainable-fence",
   "metadata": {},
   "source": [
    "### Testing data"
   ]
  },
  {
   "cell_type": "markdown",
   "id": "naked-wright",
   "metadata": {},
   "source": [
    "#### Scale measurement"
   ]
  },
  {
   "cell_type": "code",
   "execution_count": null,
   "id": "compatible-structure",
   "metadata": {
    "scrolled": false
   },
   "outputs": [
    {
     "name": "stdout",
     "output_type": "stream",
     "text": [
      "<class 'pandas.core.frame.DataFrame'>\n",
      "RangeIndex: 123 entries, 0 to 122\n",
      "Data columns (total 12 columns):\n",
      " #   Column             Non-Null Count  Dtype  \n",
      "---  ------             --------------  -----  \n",
      " 0   Loan_ID            123 non-null    object \n",
      " 1   Gender             120 non-null    object \n",
      " 2   Married            121 non-null    object \n",
      " 3   Dependents         123 non-null    object \n",
      " 4   Education          123 non-null    object \n",
      " 5   Self_Employed      123 non-null    object \n",
      " 6   ApplicantIncome    123 non-null    int64  \n",
      " 7   CoapplicantIncome  123 non-null    float64\n",
      " 8   LoanAmount         117 non-null    float64\n",
      " 9   Loan_Amount_Term   123 non-null    float64\n",
      " 10  Credit_History     116 non-null    float64\n",
      " 11  Property_Area      123 non-null    object \n",
      "dtypes: float64(4), int64(1), object(7)\n",
      "memory usage: 11.7+ KB\n"
     ]
    }
   ],
   "source": [
    "# Data frame metadata\n",
    "df_test.info()"
   ]
  },
  {
   "cell_type": "code",
   "execution_count": null,
   "id": "developing-gabriel",
   "metadata": {},
   "outputs": [
    {
     "data": {
      "text/plain": [
       "Loan_ID           object\n",
       "Gender            object\n",
       "Married           object\n",
       "Dependents        object\n",
       "Education         object\n",
       "Self_Employed     object\n",
       "Credit_History    object\n",
       "Property_Area     object\n",
       "dtype: object"
      ]
     },
     "execution_count": 34,
     "metadata": {},
     "output_type": "execute_result"
    }
   ],
   "source": [
    "# Change column types\n",
    "df_test = df_test.astype({'Credit_History': object})\n",
    "df_test.select_dtypes(include = ['object']).dtypes"
   ]
  },
  {
   "cell_type": "code",
   "execution_count": null,
   "id": "friendly-chair",
   "metadata": {
    "scrolled": true
   },
   "outputs": [
    {
     "name": "stdout",
     "output_type": "stream",
     "text": [
      "LP001116    1\n",
      "LP002262    1\n",
      "LP001047    1\n",
      "LP001844    1\n",
      "LP001938    1\n",
      "           ..\n",
      "LP001917    1\n",
      "LP001940    1\n",
      "LP001316    1\n",
      "LP001266    1\n",
      "LP001616    1\n",
      "Name: Loan_ID, Length: 123, dtype: int64 \n",
      "\n",
      "Male      96\n",
      "Female    24\n",
      "Name: Gender, dtype: int64 \n",
      "\n",
      "Yes    74\n",
      "No     47\n",
      "Name: Married, dtype: int64 \n",
      "\n",
      "0     75\n",
      "2     23\n",
      "1     17\n",
      "3+     8\n",
      "Name: Dependents, dtype: int64 \n",
      "\n",
      "Graduate        92\n",
      "Not Graduate    31\n",
      "Name: Education, dtype: int64 \n",
      "\n",
      "No     105\n",
      "Yes     18\n",
      "Name: Self_Employed, dtype: int64 \n",
      "\n",
      "1.0    95\n",
      "0.0    21\n",
      "Name: Credit_History, dtype: int64 \n",
      "\n",
      "Semiurban    47\n",
      "Urban        47\n",
      "Rural        29\n",
      "Name: Property_Area, dtype: int64 \n",
      "\n"
     ]
    }
   ],
   "source": [
    "# Summary statistics of categorical columns\n",
    "for i in df_test.select_dtypes('object').columns:\n",
    "    print(df_test[i].value_counts(),'\\n')"
   ]
  },
  {
   "cell_type": "markdown",
   "id": "historical-light",
   "metadata": {},
   "source": [
    "#### Handle missing values"
   ]
  },
  {
   "cell_type": "code",
   "execution_count": null,
   "id": "norman-quarter",
   "metadata": {},
   "outputs": [
    {
     "data": {
      "text/plain": [
       "Loan_ID              0\n",
       "Gender               3\n",
       "Married              2\n",
       "Dependents           0\n",
       "Education            0\n",
       "Self_Employed        0\n",
       "ApplicantIncome      0\n",
       "CoapplicantIncome    0\n",
       "LoanAmount           6\n",
       "Loan_Amount_Term     0\n",
       "Credit_History       7\n",
       "Property_Area        0\n",
       "dtype: int64"
      ]
     },
     "execution_count": 36,
     "metadata": {},
     "output_type": "execute_result"
    }
   ],
   "source": [
    "# Check missing values\n",
    "df_test.isna().sum()"
   ]
  },
  {
   "cell_type": "markdown",
   "id": "naked-member",
   "metadata": {},
   "source": [
    "##### `Dependents`"
   ]
  },
  {
   "cell_type": "code",
   "execution_count": null,
   "id": "meaningful-exception",
   "metadata": {},
   "outputs": [
    {
     "name": "stdout",
     "output_type": "stream",
     "text": [
      "Number of missing values in Dependents is about 0 rows\n"
     ]
    }
   ],
   "source": [
    "print('Number of missing values in Dependents is about {} rows'.format(df_test['Dependents'].isna().sum()))"
   ]
  },
  {
   "cell_type": "code",
   "execution_count": null,
   "id": "mysterious-digit",
   "metadata": {},
   "outputs": [],
   "source": [
    "# Replace missing values with \"0\"\n",
    "df_test['Dependents'].fillna(value = '0', inplace = True)"
   ]
  },
  {
   "cell_type": "markdown",
   "id": "outer-canal",
   "metadata": {},
   "source": [
    "##### `Self_Employed`"
   ]
  },
  {
   "cell_type": "code",
   "execution_count": null,
   "id": "ready-lawyer",
   "metadata": {},
   "outputs": [
    {
     "name": "stdout",
     "output_type": "stream",
     "text": [
      "Number of missing values in Self_Employed is about 0 rows\n"
     ]
    }
   ],
   "source": [
    "print('Number of missing values in Self_Employed is about {} rows'.format(df_test['Self_Employed'].isna().sum()))"
   ]
  },
  {
   "cell_type": "code",
   "execution_count": null,
   "id": "agricultural-brisbane",
   "metadata": {},
   "outputs": [],
   "source": [
    "# Replace missing values with \"No\"\n",
    "df_test['Self_Employed'].fillna(value = 'No', inplace = True) "
   ]
  },
  {
   "cell_type": "markdown",
   "id": "demanding-baseline",
   "metadata": {},
   "source": [
    "##### `Loan_Amount_Term`"
   ]
  },
  {
   "cell_type": "code",
   "execution_count": null,
   "id": "genetic-motor",
   "metadata": {},
   "outputs": [],
   "source": [
    "# Replace missing values with \"360\"\n",
    "df_test['Loan_Amount_Term'].fillna(value = 360, inplace = True)"
   ]
  },
  {
   "cell_type": "markdown",
   "id": "thrown-performer",
   "metadata": {},
   "source": [
    "##### `Gender`, `Married`, `LoanAmount` and `Credit_History`"
   ]
  },
  {
   "cell_type": "code",
   "execution_count": null,
   "id": "incomplete-asbestos",
   "metadata": {},
   "outputs": [],
   "source": [
    "# Drop missing values\n",
    "df_test.dropna(axis = 0, how = 'any', inplace = True)"
   ]
  },
  {
   "cell_type": "code",
   "execution_count": null,
   "id": "neural-label",
   "metadata": {},
   "outputs": [
    {
     "data": {
      "text/plain": [
       "Loan_ID              0\n",
       "Gender               0\n",
       "Married              0\n",
       "Dependents           0\n",
       "Education            0\n",
       "Self_Employed        0\n",
       "ApplicantIncome      0\n",
       "CoapplicantIncome    0\n",
       "LoanAmount           0\n",
       "Loan_Amount_Term     0\n",
       "Credit_History       0\n",
       "Property_Area        0\n",
       "dtype: int64"
      ]
     },
     "execution_count": 43,
     "metadata": {},
     "output_type": "execute_result"
    }
   ],
   "source": [
    "# Check missing values\n",
    "df_test.isna().sum()"
   ]
  },
  {
   "cell_type": "markdown",
   "id": "pending-collectible",
   "metadata": {},
   "source": [
    "## Explanatory data analysis"
   ]
  },
  {
   "cell_type": "markdown",
   "id": "black-dragon",
   "metadata": {},
   "source": [
    "### The composition of default and not default customers"
   ]
  },
  {
   "cell_type": "code",
   "execution_count": null,
   "id": "single-flight",
   "metadata": {},
   "outputs": [],
   "source": [
    "# Data aggregation between default and not default customers\n",
    "df_viz_1 = df_train.groupby(['Loan_Status'])['Loan_ID'].count().reset_index(name = 'Total')\n",
    "# Map the loan status\n",
    "df_viz_1['Loan_Status'] = df_viz_1['Loan_Status'].map(\n",
    "    {\n",
    "        0: 'Not default',\n",
    "        1: 'Default'\n",
    "    }\n",
    ")"
   ]
  },
  {
   "cell_type": "code",
   "execution_count": null,
   "id": "considerable-stadium",
   "metadata": {},
   "outputs": [
    {
     "data": {
      "text/html": [
       "<div>\n",
       "<style scoped>\n",
       "    .dataframe tbody tr th:only-of-type {\n",
       "        vertical-align: middle;\n",
       "    }\n",
       "\n",
       "    .dataframe tbody tr th {\n",
       "        vertical-align: top;\n",
       "    }\n",
       "\n",
       "    .dataframe thead th {\n",
       "        text-align: right;\n",
       "    }\n",
       "</style>\n",
       "<table border=\"1\" class=\"dataframe\">\n",
       "  <thead>\n",
       "    <tr style=\"text-align: right;\">\n",
       "      <th></th>\n",
       "      <th>Loan_Status</th>\n",
       "      <th>Total</th>\n",
       "    </tr>\n",
       "  </thead>\n",
       "  <tbody>\n",
       "    <tr>\n",
       "      <th>0</th>\n",
       "      <td>Not default</td>\n",
       "      <td>134</td>\n",
       "    </tr>\n",
       "    <tr>\n",
       "      <th>1</th>\n",
       "      <td>Default</td>\n",
       "      <td>330</td>\n",
       "    </tr>\n",
       "  </tbody>\n",
       "</table>\n",
       "</div>"
      ],
      "text/plain": [
       "   Loan_Status  Total\n",
       "0  Not default    134\n",
       "1      Default    330"
      ]
     },
     "execution_count": 45,
     "metadata": {},
     "output_type": "execute_result"
    }
   ],
   "source": [
    "# Show the data\n",
    "df_viz_1"
   ]
  },
  {
   "cell_type": "code",
   "execution_count": null,
   "id": "featured-healing",
   "metadata": {},
   "outputs": [
    {
     "data": {
      "image/png": "[encoded data removed]",
      "text/plain": [
       "<Figure size 640x480 with 1 Axes>"
      ]
     },
     "metadata": {},
     "output_type": "display_data"
    }
   ],
   "source": [
    "# Figure size\n",
    "plt.figure(figsize = (6.4,4.8))\n",
    "\n",
    "# Customize colors and other settings\n",
    "colors = ['#80797c','#981220']\n",
    "\n",
    "# Explode 1st slice\n",
    "explode = (0.1, 0)\n",
    "\n",
    "# Create a pie chart\n",
    "plt.pie(\n",
    "    x = 'Total',\n",
    "    labels = 'Loan_Status',\n",
    "    data = df_viz_1,\n",
    "    explode = explode,\n",
    "    colors = colors,\n",
    "    autopct = '%1.1f%%',\n",
    "    shadow = False,\n",
    "    startangle = 140\n",
    ")\n",
    "\n",
    "# Title and axis\n",
    "plt.title('Number of customers by loan status', fontsize = 18)\n",
    "plt.axis('equal')\n",
    "plt.show()"
   ]
  },
  {
   "cell_type": "markdown",
   "id": "velvet-clark",
   "metadata": {},
   "source": [
    "### The composition of loan status by the dependents"
   ]
  },
  {
   "cell_type": "code",
   "execution_count": null,
   "id": "coral-liberty",
   "metadata": {},
   "outputs": [],
   "source": [
    "# Data aggregation between loan status and dependents\n",
    "df_viz_2 = df_train.groupby(['Loan_Status', 'Dependents'])['Loan_ID'].count().reset_index(name = 'Total')\n",
    "# Map the loan status\n",
    "df_viz_2['Loan_Status'] = df_viz_2['Loan_Status'].map(\n",
    "    {\n",
    "        0: 'Not default',\n",
    "        1: 'Default'\n",
    "    }\n",
    ")"
   ]
  },
  {
   "cell_type": "code",
   "execution_count": null,
   "id": "limited-biotechnology",
   "metadata": {},
   "outputs": [
    {
     "data": {
      "text/html": [
       "<div>\n",
       "<style scoped>\n",
       "    .dataframe tbody tr th:only-of-type {\n",
       "        vertical-align: middle;\n",
       "    }\n",
       "\n",
       "    .dataframe tbody tr th {\n",
       "        vertical-align: top;\n",
       "    }\n",
       "\n",
       "    .dataframe thead th {\n",
       "        text-align: right;\n",
       "    }\n",
       "</style>\n",
       "<table border=\"1\" class=\"dataframe\">\n",
       "  <thead>\n",
       "    <tr style=\"text-align: right;\">\n",
       "      <th></th>\n",
       "      <th>Loan_Status</th>\n",
       "      <th>Dependents</th>\n",
       "      <th>Total</th>\n",
       "    </tr>\n",
       "  </thead>\n",
       "  <tbody>\n",
       "    <tr>\n",
       "      <th>0</th>\n",
       "      <td>Not default</td>\n",
       "      <td>0</td>\n",
       "      <td>77</td>\n",
       "    </tr>\n",
       "    <tr>\n",
       "      <th>1</th>\n",
       "      <td>Not default</td>\n",
       "      <td>1</td>\n",
       "      <td>30</td>\n",
       "    </tr>\n",
       "    <tr>\n",
       "      <th>2</th>\n",
       "      <td>Not default</td>\n",
       "      <td>2</td>\n",
       "      <td>13</td>\n",
       "    </tr>\n",
       "    <tr>\n",
       "      <th>3</th>\n",
       "      <td>Not default</td>\n",
       "      <td>3+</td>\n",
       "      <td>14</td>\n",
       "    </tr>\n",
       "    <tr>\n",
       "      <th>4</th>\n",
       "      <td>Default</td>\n",
       "      <td>0</td>\n",
       "      <td>191</td>\n",
       "    </tr>\n",
       "    <tr>\n",
       "      <th>5</th>\n",
       "      <td>Default</td>\n",
       "      <td>1</td>\n",
       "      <td>52</td>\n",
       "    </tr>\n",
       "    <tr>\n",
       "      <th>6</th>\n",
       "      <td>Default</td>\n",
       "      <td>2</td>\n",
       "      <td>62</td>\n",
       "    </tr>\n",
       "    <tr>\n",
       "      <th>7</th>\n",
       "      <td>Default</td>\n",
       "      <td>3+</td>\n",
       "      <td>25</td>\n",
       "    </tr>\n",
       "  </tbody>\n",
       "</table>\n",
       "</div>"
      ],
      "text/plain": [
       "   Loan_Status Dependents  Total\n",
       "0  Not default          0     77\n",
       "1  Not default          1     30\n",
       "2  Not default          2     13\n",
       "3  Not default         3+     14\n",
       "4      Default          0    191\n",
       "5      Default          1     52\n",
       "6      Default          2     62\n",
       "7      Default         3+     25"
      ]
     },
     "execution_count": 48,
     "metadata": {},
     "output_type": "execute_result"
    }
   ],
   "source": [
    "# Show the data\n",
    "df_viz_2"
   ]
  },
  {
   "cell_type": "code",
   "execution_count": null,
   "id": "pending-joyce",
   "metadata": {},
   "outputs": [
    {
     "data": {
      "image/png": "[encoded data removed]",
      "text/plain": [
       "<Figure size 800x480 with 1 Axes>"
      ]
     },
     "metadata": {
      "needs_background": "light"
     },
     "output_type": "display_data"
    },
    {
     "data": {
      "text/plain": [
       "<ggplot: (118853857560)>"
      ]
     },
     "execution_count": 49,
     "metadata": {},
     "output_type": "execute_result"
    }
   ],
   "source": [
    "plotnine.options.figure_size = (8, 4.8)\n",
    "(\n",
    "    ggplot(\n",
    "        data = df_viz_2\n",
    "    )+\n",
    "    geom_bar(\n",
    "        aes(\n",
    "            x = 'Dependents',\n",
    "            y = 'Total',\n",
    "            fill = 'Loan_Status'\n",
    "        ),\n",
    "        stat = 'identity',\n",
    "        position = 'fill',\n",
    "        width = 0.5\n",
    "    )+\n",
    "    labs(\n",
    "        title = 'The composition of loan status by the dependents',\n",
    "        fill = 'Loan status'\n",
    "    )+\n",
    "    xlab(\n",
    "        'Dependents'\n",
    "    )+\n",
    "    ylab(\n",
    "        'Frequency'\n",
    "    )+\n",
    "    scale_x_discrete(\n",
    "        limits = ['0', '1', '2', '3+']\n",
    "    )+\n",
    "    scale_fill_manual(\n",
    "        values = ['#981220','#80797c'],\n",
    "        labels = ['Default', 'Not Default']\n",
    "    )+\n",
    "    theme_minimal()\n",
    ")"
   ]
  },
  {
   "cell_type": "markdown",
   "id": "dutch-haven",
   "metadata": {},
   "source": [
    "### The composition of default customer by the educations"
   ]
  },
  {
   "cell_type": "code",
   "execution_count": null,
   "id": "nervous-likelihood",
   "metadata": {},
   "outputs": [],
   "source": [
    "# Data aggregation between loan status and dependents\n",
    "df_viz_3 = df_train.groupby(['Loan_Status', 'Education'])['Loan_ID'].count().reset_index(name = 'Total')\n",
    "# Map the loan status\n",
    "df_viz_3['Loan_Status'] = df_viz_3['Loan_Status'].map(\n",
    "    {\n",
    "        0: 'Not default',\n",
    "        1: 'Default'\n",
    "    }\n",
    ")"
   ]
  },
  {
   "cell_type": "code",
   "execution_count": null,
   "id": "mechanical-expansion",
   "metadata": {},
   "outputs": [
    {
     "data": {
      "text/html": [
       "<div>\n",
       "<style scoped>\n",
       "    .dataframe tbody tr th:only-of-type {\n",
       "        vertical-align: middle;\n",
       "    }\n",
       "\n",
       "    .dataframe tbody tr th {\n",
       "        vertical-align: top;\n",
       "    }\n",
       "\n",
       "    .dataframe thead th {\n",
       "        text-align: right;\n",
       "    }\n",
       "</style>\n",
       "<table border=\"1\" class=\"dataframe\">\n",
       "  <thead>\n",
       "    <tr style=\"text-align: right;\">\n",
       "      <th></th>\n",
       "      <th>Loan_Status</th>\n",
       "      <th>Education</th>\n",
       "      <th>Total</th>\n",
       "    </tr>\n",
       "  </thead>\n",
       "  <tbody>\n",
       "    <tr>\n",
       "      <th>0</th>\n",
       "      <td>Not default</td>\n",
       "      <td>Graduate</td>\n",
       "      <td>101</td>\n",
       "    </tr>\n",
       "    <tr>\n",
       "      <th>1</th>\n",
       "      <td>Not default</td>\n",
       "      <td>Not Graduate</td>\n",
       "      <td>33</td>\n",
       "    </tr>\n",
       "    <tr>\n",
       "      <th>2</th>\n",
       "      <td>Default</td>\n",
       "      <td>Graduate</td>\n",
       "      <td>266</td>\n",
       "    </tr>\n",
       "    <tr>\n",
       "      <th>3</th>\n",
       "      <td>Default</td>\n",
       "      <td>Not Graduate</td>\n",
       "      <td>64</td>\n",
       "    </tr>\n",
       "  </tbody>\n",
       "</table>\n",
       "</div>"
      ],
      "text/plain": [
       "   Loan_Status     Education  Total\n",
       "0  Not default      Graduate    101\n",
       "1  Not default  Not Graduate     33\n",
       "2      Default      Graduate    266\n",
       "3      Default  Not Graduate     64"
      ]
     },
     "execution_count": 51,
     "metadata": {},
     "output_type": "execute_result"
    }
   ],
   "source": [
    "# Show the data\n",
    "df_viz_3"
   ]
  },
  {
   "cell_type": "code",
   "execution_count": null,
   "id": "cross-johnston",
   "metadata": {
    "scrolled": false
   },
   "outputs": [
    {
     "data": {
      "image/png": "[encoded data removed]",
      "text/plain": [
       "<Figure size 800x480 with 1 Axes>"
      ]
     },
     "metadata": {
      "needs_background": "light"
     },
     "output_type": "display_data"
    },
    {
     "data": {
      "text/plain": [
       "<ggplot: (118853528631)>"
      ]
     },
     "execution_count": 52,
     "metadata": {},
     "output_type": "execute_result"
    }
   ],
   "source": [
    "plotnine.options.figure_size = (8, 4.8)\n",
    "(\n",
    "    ggplot(\n",
    "        data = df_viz_3\n",
    "    )+\n",
    "    geom_bar(\n",
    "        aes(\n",
    "            x = 'Education',\n",
    "            y = 'Total',\n",
    "            fill = 'Loan_Status'\n",
    "        ),\n",
    "        stat = 'identity',\n",
    "        position = 'fill',\n",
    "        width = 0.5\n",
    "    )+\n",
    "    labs(\n",
    "        title = 'The composition of loan status by the education',\n",
    "        fill = 'Loan status'\n",
    "    )+\n",
    "    xlab(\n",
    "        'Educations'\n",
    "    )+\n",
    "    ylab(\n",
    "        'Frequency'\n",
    "    )+\n",
    "    scale_x_discrete(\n",
    "        limits = ['Graduate', 'Not Graduate']\n",
    "    )+\n",
    "    scale_fill_manual(\n",
    "        values = ['#981220','#80797c'],\n",
    "        labels = ['Default', 'Not Default']\n",
    "    )+\n",
    "    theme_minimal()\n",
    ")"
   ]
  },
  {
   "cell_type": "markdown",
   "id": "operational-engine",
   "metadata": {},
   "source": [
    "### The distribution of applicant incomes by loan status"
   ]
  },
  {
   "cell_type": "code",
   "execution_count": null,
   "id": "charged-trader",
   "metadata": {},
   "outputs": [],
   "source": [
    "# Slice the columns\n",
    "df_viz_4 = df_train[['ApplicantIncome', 'Loan_Status']].reset_index(drop = True)\n",
    "# Map the loan status\n",
    "df_viz_4['Loan_Status'] = df_viz_4['Loan_Status'].map(\n",
    "    {\n",
    "        0: 'Not default',\n",
    "        1: 'Default'\n",
    "    }\n",
    ")"
   ]
  },
  {
   "cell_type": "code",
   "execution_count": null,
   "id": "strategic-tokyo",
   "metadata": {},
   "outputs": [
    {
     "data": {
      "text/html": [
       "<div>\n",
       "<style scoped>\n",
       "    .dataframe tbody tr th:only-of-type {\n",
       "        vertical-align: middle;\n",
       "    }\n",
       "\n",
       "    .dataframe tbody tr th {\n",
       "        vertical-align: top;\n",
       "    }\n",
       "\n",
       "    .dataframe thead th {\n",
       "        text-align: right;\n",
       "    }\n",
       "</style>\n",
       "<table border=\"1\" class=\"dataframe\">\n",
       "  <thead>\n",
       "    <tr style=\"text-align: right;\">\n",
       "      <th></th>\n",
       "      <th>ApplicantIncome</th>\n",
       "      <th>Loan_Status</th>\n",
       "    </tr>\n",
       "  </thead>\n",
       "  <tbody>\n",
       "    <tr>\n",
       "      <th>0</th>\n",
       "      <td>4547</td>\n",
       "      <td>Default</td>\n",
       "    </tr>\n",
       "    <tr>\n",
       "      <th>1</th>\n",
       "      <td>5703</td>\n",
       "      <td>Default</td>\n",
       "    </tr>\n",
       "    <tr>\n",
       "      <th>2</th>\n",
       "      <td>4333</td>\n",
       "      <td>Not default</td>\n",
       "    </tr>\n",
       "    <tr>\n",
       "      <th>3</th>\n",
       "      <td>4695</td>\n",
       "      <td>Default</td>\n",
       "    </tr>\n",
       "    <tr>\n",
       "      <th>4</th>\n",
       "      <td>6700</td>\n",
       "      <td>Default</td>\n",
       "    </tr>\n",
       "  </tbody>\n",
       "</table>\n",
       "</div>"
      ],
      "text/plain": [
       "   ApplicantIncome  Loan_Status\n",
       "0             4547      Default\n",
       "1             5703      Default\n",
       "2             4333  Not default\n",
       "3             4695      Default\n",
       "4             6700      Default"
      ]
     },
     "execution_count": 54,
     "metadata": {},
     "output_type": "execute_result"
    }
   ],
   "source": [
    "# Show the data\n",
    "df_viz_4.head()"
   ]
  },
  {
   "cell_type": "code",
   "execution_count": null,
   "id": "figured-level",
   "metadata": {
    "scrolled": false
   },
   "outputs": [
    {
     "data": {
      "image/png": "[encoded data removed]",
      "text/plain": [
       "<Figure size 800x480 with 1 Axes>"
      ]
     },
     "metadata": {
      "needs_background": "light"
     },
     "output_type": "display_data"
    },
    {
     "data": {
      "text/plain": [
       "<ggplot: (118853857653)>"
      ]
     },
     "execution_count": 55,
     "metadata": {},
     "output_type": "execute_result"
    }
   ],
   "source": [
    "plotnine.options.figure_size = (8, 4.8)\n",
    "(\n",
    "    ggplot(\n",
    "        data = df_viz_4\n",
    "    )+\n",
    "    geom_density(\n",
    "        aes(\n",
    "            x = 'ApplicantIncome',\n",
    "            fill = 'Loan_Status'\n",
    "        ),\n",
    "        color = 'white',\n",
    "        alpha = 0.85\n",
    "    )+\n",
    "    labs(\n",
    "        title = 'The distribution of applicant incomes by loan status'\n",
    "    )+\n",
    "    scale_fill_manual(\n",
    "        name = 'Loan Status',\n",
    "        values = ['#981220','#80797c'],\n",
    "        labels = ['Default', 'Not Default']\n",
    "    )+\n",
    "    xlab(\n",
    "        'Applicant income'\n",
    "    )+\n",
    "    ylab(\n",
    "        'Density'\n",
    "    )+\n",
    "    theme_minimal()\n",
    ")"
   ]
  },
  {
   "cell_type": "markdown",
   "id": "antique-invalid",
   "metadata": {},
   "source": [
    "### The distribution of loan amount by loan status"
   ]
  },
  {
   "cell_type": "code",
   "execution_count": null,
   "id": "scientific-cleaner",
   "metadata": {},
   "outputs": [],
   "source": [
    "# Slice the columns\n",
    "df_viz_5 = df_train[['LoanAmount', 'Loan_Status']].reset_index(drop = True)\n",
    "# Map the loan status\n",
    "df_viz_5['Loan_Status'] = df_viz_5['Loan_Status'].map(\n",
    "    {\n",
    "        0: 'Not default',\n",
    "        1: 'Default'\n",
    "    }\n",
    ")"
   ]
  },
  {
   "cell_type": "code",
   "execution_count": null,
   "id": "legendary-medline",
   "metadata": {},
   "outputs": [
    {
     "data": {
      "text/html": [
       "<div>\n",
       "<style scoped>\n",
       "    .dataframe tbody tr th:only-of-type {\n",
       "        vertical-align: middle;\n",
       "    }\n",
       "\n",
       "    .dataframe tbody tr th {\n",
       "        vertical-align: top;\n",
       "    }\n",
       "\n",
       "    .dataframe thead th {\n",
       "        text-align: right;\n",
       "    }\n",
       "</style>\n",
       "<table border=\"1\" class=\"dataframe\">\n",
       "  <thead>\n",
       "    <tr style=\"text-align: right;\">\n",
       "      <th></th>\n",
       "      <th>LoanAmount</th>\n",
       "      <th>Loan_Status</th>\n",
       "    </tr>\n",
       "  </thead>\n",
       "  <tbody>\n",
       "    <tr>\n",
       "      <th>0</th>\n",
       "      <td>115.0</td>\n",
       "      <td>Default</td>\n",
       "    </tr>\n",
       "    <tr>\n",
       "      <th>1</th>\n",
       "      <td>130.0</td>\n",
       "      <td>Default</td>\n",
       "    </tr>\n",
       "    <tr>\n",
       "      <th>2</th>\n",
       "      <td>110.0</td>\n",
       "      <td>Not default</td>\n",
       "    </tr>\n",
       "    <tr>\n",
       "      <th>3</th>\n",
       "      <td>96.0</td>\n",
       "      <td>Default</td>\n",
       "    </tr>\n",
       "    <tr>\n",
       "      <th>4</th>\n",
       "      <td>230.0</td>\n",
       "      <td>Default</td>\n",
       "    </tr>\n",
       "  </tbody>\n",
       "</table>\n",
       "</div>"
      ],
      "text/plain": [
       "   LoanAmount  Loan_Status\n",
       "0       115.0      Default\n",
       "1       130.0      Default\n",
       "2       110.0  Not default\n",
       "3        96.0      Default\n",
       "4       230.0      Default"
      ]
     },
     "execution_count": 57,
     "metadata": {},
     "output_type": "execute_result"
    }
   ],
   "source": [
    "# Show the data\n",
    "df_viz_5.head()"
   ]
  },
  {
   "cell_type": "code",
   "execution_count": null,
   "id": "overhead-guarantee",
   "metadata": {
    "scrolled": false
   },
   "outputs": [
    {
     "data": {
      "image/png": "[encoded data removed]",
      "text/plain": [
       "<Figure size 800x480 with 1 Axes>"
      ]
     },
     "metadata": {
      "needs_background": "light"
     },
     "output_type": "display_data"
    },
    {
     "data": {
      "text/plain": [
       "<ggplot: (118853555915)>"
      ]
     },
     "execution_count": 58,
     "metadata": {},
     "output_type": "execute_result"
    }
   ],
   "source": [
    "plotnine.options.figure_size = (8, 4.8)\n",
    "(\n",
    "    ggplot(\n",
    "        data = df_viz_5\n",
    "    )+\n",
    "    geom_density(\n",
    "        aes(\n",
    "            x = 'LoanAmount',\n",
    "            fill = 'Loan_Status'\n",
    "        ),\n",
    "        color = 'white',\n",
    "        alpha = 0.85\n",
    "    )+\n",
    "    labs(\n",
    "        title = 'The distribution of loan amount by loan status'\n",
    "    )+\n",
    "    scale_fill_manual(\n",
    "        name = 'Loan Status',\n",
    "        values = ['#981220','#80797c'],\n",
    "        labels = ['Default', 'Not Default']\n",
    "    )+\n",
    "    xlab(\n",
    "        'Loan amount'\n",
    "    )+\n",
    "    ylab(\n",
    "        'Density'\n",
    "    )+\n",
    "    theme_minimal()\n",
    ")"
   ]
  },
  {
   "cell_type": "markdown",
   "id": "expired-sussex",
   "metadata": {},
   "source": [
    "## One-hot encoder"
   ]
  },
  {
   "cell_type": "code",
   "execution_count": null,
   "id": "manual-naples",
   "metadata": {},
   "outputs": [],
   "source": [
    "# Add new column of Loan_Status with 999 in testing data\n",
    "df_test['Loan_Status'] = 999\n",
    "# Concat the training and testing data\n",
    "df_concat = pd.concat(objs = [df_train , df_test], axis = 0)"
   ]
  },
  {
   "cell_type": "code",
   "execution_count": null,
   "id": "moving-notice",
   "metadata": {},
   "outputs": [],
   "source": [
    "# Drop the column of Loan_ID\n",
    "df_concat.drop(columns = ['Loan_ID'], inplace = True)"
   ]
  },
  {
   "cell_type": "code",
   "execution_count": null,
   "id": "transparent-constitution",
   "metadata": {
    "scrolled": false
   },
   "outputs": [
    {
     "name": "stdout",
     "output_type": "stream",
     "text": [
      "['Gender', 'Married', 'Dependents', 'Education', 'Self_Employed', 'Credit_History', 'Property_Area']\n"
     ]
    }
   ],
   "source": [
    "# Categorical columns\n",
    "cols_obj_train = ['Gender', 'Married', 'Dependents', 'Education', 'Self_Employed', 'Credit_History', 'Property_Area']\n",
    "print(cols_obj_train)"
   ]
  },
  {
   "cell_type": "code",
   "execution_count": null,
   "id": "limited-accountability",
   "metadata": {
    "scrolled": true
   },
   "outputs": [
    {
     "name": "stdout",
     "output_type": "stream",
     "text": [
      "Dimension data: 570 rows and 15 columns\n"
     ]
    },
    {
     "data": {
      "text/html": [
       "<div>\n",
       "<style scoped>\n",
       "    .dataframe tbody tr th:only-of-type {\n",
       "        vertical-align: middle;\n",
       "    }\n",
       "\n",
       "    .dataframe tbody tr th {\n",
       "        vertical-align: top;\n",
       "    }\n",
       "\n",
       "    .dataframe thead th {\n",
       "        text-align: right;\n",
       "    }\n",
       "</style>\n",
       "<table border=\"1\" class=\"dataframe\">\n",
       "  <thead>\n",
       "    <tr style=\"text-align: right;\">\n",
       "      <th></th>\n",
       "      <th>ApplicantIncome</th>\n",
       "      <th>CoapplicantIncome</th>\n",
       "      <th>LoanAmount</th>\n",
       "      <th>Loan_Amount_Term</th>\n",
       "      <th>Loan_Status</th>\n",
       "      <th>Gender_Male</th>\n",
       "      <th>Married_Yes</th>\n",
       "      <th>Dependents_1</th>\n",
       "      <th>Dependents_2</th>\n",
       "      <th>Dependents_3+</th>\n",
       "      <th>Education_Not Graduate</th>\n",
       "      <th>Self_Employed_Yes</th>\n",
       "      <th>Credit_History_1.0</th>\n",
       "      <th>Property_Area_Semiurban</th>\n",
       "      <th>Property_Area_Urban</th>\n",
       "    </tr>\n",
       "  </thead>\n",
       "  <tbody>\n",
       "    <tr>\n",
       "      <th>0</th>\n",
       "      <td>4547</td>\n",
       "      <td>0.0</td>\n",
       "      <td>115.0</td>\n",
       "      <td>360.0</td>\n",
       "      <td>1</td>\n",
       "      <td>0</td>\n",
       "      <td>0</td>\n",
       "      <td>0</td>\n",
       "      <td>0</td>\n",
       "      <td>0</td>\n",
       "      <td>0</td>\n",
       "      <td>0</td>\n",
       "      <td>1</td>\n",
       "      <td>1</td>\n",
       "      <td>0</td>\n",
       "    </tr>\n",
       "    <tr>\n",
       "      <th>1</th>\n",
       "      <td>5703</td>\n",
       "      <td>0.0</td>\n",
       "      <td>130.0</td>\n",
       "      <td>360.0</td>\n",
       "      <td>1</td>\n",
       "      <td>1</td>\n",
       "      <td>1</td>\n",
       "      <td>0</td>\n",
       "      <td>0</td>\n",
       "      <td>1</td>\n",
       "      <td>1</td>\n",
       "      <td>1</td>\n",
       "      <td>1</td>\n",
       "      <td>0</td>\n",
       "      <td>0</td>\n",
       "    </tr>\n",
       "    <tr>\n",
       "      <th>2</th>\n",
       "      <td>4333</td>\n",
       "      <td>2451.0</td>\n",
       "      <td>110.0</td>\n",
       "      <td>360.0</td>\n",
       "      <td>0</td>\n",
       "      <td>0</td>\n",
       "      <td>1</td>\n",
       "      <td>0</td>\n",
       "      <td>0</td>\n",
       "      <td>0</td>\n",
       "      <td>0</td>\n",
       "      <td>0</td>\n",
       "      <td>1</td>\n",
       "      <td>0</td>\n",
       "      <td>1</td>\n",
       "    </tr>\n",
       "    <tr>\n",
       "      <th>3</th>\n",
       "      <td>4695</td>\n",
       "      <td>0.0</td>\n",
       "      <td>96.0</td>\n",
       "      <td>360.0</td>\n",
       "      <td>1</td>\n",
       "      <td>1</td>\n",
       "      <td>1</td>\n",
       "      <td>0</td>\n",
       "      <td>0</td>\n",
       "      <td>0</td>\n",
       "      <td>1</td>\n",
       "      <td>1</td>\n",
       "      <td>1</td>\n",
       "      <td>0</td>\n",
       "      <td>1</td>\n",
       "    </tr>\n",
       "    <tr>\n",
       "      <th>4</th>\n",
       "      <td>6700</td>\n",
       "      <td>1750.0</td>\n",
       "      <td>230.0</td>\n",
       "      <td>300.0</td>\n",
       "      <td>1</td>\n",
       "      <td>1</td>\n",
       "      <td>1</td>\n",
       "      <td>0</td>\n",
       "      <td>1</td>\n",
       "      <td>0</td>\n",
       "      <td>0</td>\n",
       "      <td>0</td>\n",
       "      <td>1</td>\n",
       "      <td>1</td>\n",
       "      <td>0</td>\n",
       "    </tr>\n",
       "  </tbody>\n",
       "</table>\n",
       "</div>"
      ],
      "text/plain": [
       "   ApplicantIncome  CoapplicantIncome  LoanAmount  Loan_Amount_Term  \\\n",
       "0             4547                0.0       115.0             360.0   \n",
       "1             5703                0.0       130.0             360.0   \n",
       "2             4333             2451.0       110.0             360.0   \n",
       "3             4695                0.0        96.0             360.0   \n",
       "4             6700             1750.0       230.0             300.0   \n",
       "\n",
       "   Loan_Status  Gender_Male  Married_Yes  Dependents_1  Dependents_2  \\\n",
       "0            1            0            0             0             0   \n",
       "1            1            1            1             0             0   \n",
       "2            0            0            1             0             0   \n",
       "3            1            1            1             0             0   \n",
       "4            1            1            1             0             1   \n",
       "\n",
       "   Dependents_3+  Education_Not Graduate  Self_Employed_Yes  \\\n",
       "0              0                       0                  0   \n",
       "1              1                       1                  1   \n",
       "2              0                       0                  0   \n",
       "3              0                       1                  1   \n",
       "4              0                       0                  0   \n",
       "\n",
       "   Credit_History_1.0  Property_Area_Semiurban  Property_Area_Urban  \n",
       "0                   1                        1                    0  \n",
       "1                   1                        0                    0  \n",
       "2                   1                        0                    1  \n",
       "3                   1                        0                    1  \n",
       "4                   1                        1                    0  "
      ]
     },
     "execution_count": 62,
     "metadata": {},
     "output_type": "execute_result"
    }
   ],
   "source": [
    "# One-hot encoding\n",
    "df_concat = pd.get_dummies(data = df_concat, columns = cols_obj_train, drop_first = True)\n",
    "print('Dimension data: {} rows and {} columns'.format(len(df_concat), len(df_concat.columns)))\n",
    "df_concat.head()"
   ]
  },
  {
   "cell_type": "markdown",
   "id": "studied-occasion",
   "metadata": {},
   "source": [
    "## Data partitioning"
   ]
  },
  {
   "cell_type": "code",
   "execution_count": null,
   "id": "filled-lawyer",
   "metadata": {},
   "outputs": [
    {
     "data": {
      "text/plain": [
       "1      330\n",
       "0      134\n",
       "999    106\n",
       "Name: Loan_Status, dtype: int64"
      ]
     },
     "execution_count": 63,
     "metadata": {},
     "output_type": "execute_result"
    }
   ],
   "source": [
    "# Unique values of Loan_Status\n",
    "df_concat['Loan_Status'].value_counts()"
   ]
  },
  {
   "cell_type": "code",
   "execution_count": null,
   "id": "automotive-collar",
   "metadata": {
    "scrolled": true
   },
   "outputs": [
    {
     "name": "stdout",
     "output_type": "stream",
     "text": [
      "Dimension data: 464 rows and 15 columns\n"
     ]
    },
    {
     "data": {
      "text/html": [
       "<div>\n",
       "<style scoped>\n",
       "    .dataframe tbody tr th:only-of-type {\n",
       "        vertical-align: middle;\n",
       "    }\n",
       "\n",
       "    .dataframe tbody tr th {\n",
       "        vertical-align: top;\n",
       "    }\n",
       "\n",
       "    .dataframe thead th {\n",
       "        text-align: right;\n",
       "    }\n",
       "</style>\n",
       "<table border=\"1\" class=\"dataframe\">\n",
       "  <thead>\n",
       "    <tr style=\"text-align: right;\">\n",
       "      <th></th>\n",
       "      <th>ApplicantIncome</th>\n",
       "      <th>CoapplicantIncome</th>\n",
       "      <th>LoanAmount</th>\n",
       "      <th>Loan_Amount_Term</th>\n",
       "      <th>Loan_Status</th>\n",
       "      <th>Gender_Male</th>\n",
       "      <th>Married_Yes</th>\n",
       "      <th>Dependents_1</th>\n",
       "      <th>Dependents_2</th>\n",
       "      <th>Dependents_3+</th>\n",
       "      <th>Education_Not Graduate</th>\n",
       "      <th>Self_Employed_Yes</th>\n",
       "      <th>Credit_History_1.0</th>\n",
       "      <th>Property_Area_Semiurban</th>\n",
       "      <th>Property_Area_Urban</th>\n",
       "    </tr>\n",
       "  </thead>\n",
       "  <tbody>\n",
       "    <tr>\n",
       "      <th>0</th>\n",
       "      <td>4547</td>\n",
       "      <td>0.0</td>\n",
       "      <td>115.0</td>\n",
       "      <td>360.0</td>\n",
       "      <td>1</td>\n",
       "      <td>0</td>\n",
       "      <td>0</td>\n",
       "      <td>0</td>\n",
       "      <td>0</td>\n",
       "      <td>0</td>\n",
       "      <td>0</td>\n",
       "      <td>0</td>\n",
       "      <td>1</td>\n",
       "      <td>1</td>\n",
       "      <td>0</td>\n",
       "    </tr>\n",
       "    <tr>\n",
       "      <th>1</th>\n",
       "      <td>5703</td>\n",
       "      <td>0.0</td>\n",
       "      <td>130.0</td>\n",
       "      <td>360.0</td>\n",
       "      <td>1</td>\n",
       "      <td>1</td>\n",
       "      <td>1</td>\n",
       "      <td>0</td>\n",
       "      <td>0</td>\n",
       "      <td>1</td>\n",
       "      <td>1</td>\n",
       "      <td>1</td>\n",
       "      <td>1</td>\n",
       "      <td>0</td>\n",
       "      <td>0</td>\n",
       "    </tr>\n",
       "    <tr>\n",
       "      <th>2</th>\n",
       "      <td>4333</td>\n",
       "      <td>2451.0</td>\n",
       "      <td>110.0</td>\n",
       "      <td>360.0</td>\n",
       "      <td>0</td>\n",
       "      <td>0</td>\n",
       "      <td>1</td>\n",
       "      <td>0</td>\n",
       "      <td>0</td>\n",
       "      <td>0</td>\n",
       "      <td>0</td>\n",
       "      <td>0</td>\n",
       "      <td>1</td>\n",
       "      <td>0</td>\n",
       "      <td>1</td>\n",
       "    </tr>\n",
       "    <tr>\n",
       "      <th>3</th>\n",
       "      <td>4695</td>\n",
       "      <td>0.0</td>\n",
       "      <td>96.0</td>\n",
       "      <td>360.0</td>\n",
       "      <td>1</td>\n",
       "      <td>1</td>\n",
       "      <td>1</td>\n",
       "      <td>0</td>\n",
       "      <td>0</td>\n",
       "      <td>0</td>\n",
       "      <td>1</td>\n",
       "      <td>1</td>\n",
       "      <td>1</td>\n",
       "      <td>0</td>\n",
       "      <td>1</td>\n",
       "    </tr>\n",
       "    <tr>\n",
       "      <th>4</th>\n",
       "      <td>6700</td>\n",
       "      <td>1750.0</td>\n",
       "      <td>230.0</td>\n",
       "      <td>300.0</td>\n",
       "      <td>1</td>\n",
       "      <td>1</td>\n",
       "      <td>1</td>\n",
       "      <td>0</td>\n",
       "      <td>1</td>\n",
       "      <td>0</td>\n",
       "      <td>0</td>\n",
       "      <td>0</td>\n",
       "      <td>1</td>\n",
       "      <td>1</td>\n",
       "      <td>0</td>\n",
       "    </tr>\n",
       "  </tbody>\n",
       "</table>\n",
       "</div>"
      ],
      "text/plain": [
       "   ApplicantIncome  CoapplicantIncome  LoanAmount  Loan_Amount_Term  \\\n",
       "0             4547                0.0       115.0             360.0   \n",
       "1             5703                0.0       130.0             360.0   \n",
       "2             4333             2451.0       110.0             360.0   \n",
       "3             4695                0.0        96.0             360.0   \n",
       "4             6700             1750.0       230.0             300.0   \n",
       "\n",
       "   Loan_Status  Gender_Male  Married_Yes  Dependents_1  Dependents_2  \\\n",
       "0            1            0            0             0             0   \n",
       "1            1            1            1             0             0   \n",
       "2            0            0            1             0             0   \n",
       "3            1            1            1             0             0   \n",
       "4            1            1            1             0             1   \n",
       "\n",
       "   Dependents_3+  Education_Not Graduate  Self_Employed_Yes  \\\n",
       "0              0                       0                  0   \n",
       "1              1                       1                  1   \n",
       "2              0                       0                  0   \n",
       "3              0                       1                  1   \n",
       "4              0                       0                  0   \n",
       "\n",
       "   Credit_History_1.0  Property_Area_Semiurban  Property_Area_Urban  \n",
       "0                   1                        1                    0  \n",
       "1                   1                        0                    0  \n",
       "2                   1                        0                    1  \n",
       "3                   1                        0                    1  \n",
       "4                   1                        1                    0  "
      ]
     },
     "execution_count": 64,
     "metadata": {},
     "output_type": "execute_result"
    }
   ],
   "source": [
    "# Training set\n",
    "df_train = df_concat[df_concat['Loan_Status'].isin([0, 1])].reset_index(drop = True)\n",
    "print('Dimension data: {} rows and {} columns'.format(len(df_train), len(df_train.columns)))\n",
    "df_train.head()"
   ]
  },
  {
   "cell_type": "code",
   "execution_count": null,
   "id": "adequate-reality",
   "metadata": {
    "scrolled": true
   },
   "outputs": [
    {
     "name": "stdout",
     "output_type": "stream",
     "text": [
      "Data dimension: 106 rows and 15 columns\n"
     ]
    },
    {
     "data": {
      "text/html": [
       "<div>\n",
       "<style scoped>\n",
       "    .dataframe tbody tr th:only-of-type {\n",
       "        vertical-align: middle;\n",
       "    }\n",
       "\n",
       "    .dataframe tbody tr th {\n",
       "        vertical-align: top;\n",
       "    }\n",
       "\n",
       "    .dataframe thead th {\n",
       "        text-align: right;\n",
       "    }\n",
       "</style>\n",
       "<table border=\"1\" class=\"dataframe\">\n",
       "  <thead>\n",
       "    <tr style=\"text-align: right;\">\n",
       "      <th></th>\n",
       "      <th>ApplicantIncome</th>\n",
       "      <th>CoapplicantIncome</th>\n",
       "      <th>LoanAmount</th>\n",
       "      <th>Loan_Amount_Term</th>\n",
       "      <th>Loan_Status</th>\n",
       "      <th>Gender_Male</th>\n",
       "      <th>Married_Yes</th>\n",
       "      <th>Dependents_1</th>\n",
       "      <th>Dependents_2</th>\n",
       "      <th>Dependents_3+</th>\n",
       "      <th>Education_Not Graduate</th>\n",
       "      <th>Self_Employed_Yes</th>\n",
       "      <th>Credit_History_1.0</th>\n",
       "      <th>Property_Area_Semiurban</th>\n",
       "      <th>Property_Area_Urban</th>\n",
       "    </tr>\n",
       "  </thead>\n",
       "  <tbody>\n",
       "    <tr>\n",
       "      <th>0</th>\n",
       "      <td>3748</td>\n",
       "      <td>1668.0</td>\n",
       "      <td>110.0</td>\n",
       "      <td>360.0</td>\n",
       "      <td>999</td>\n",
       "      <td>1</td>\n",
       "      <td>0</td>\n",
       "      <td>0</td>\n",
       "      <td>0</td>\n",
       "      <td>0</td>\n",
       "      <td>1</td>\n",
       "      <td>0</td>\n",
       "      <td>1</td>\n",
       "      <td>1</td>\n",
       "      <td>0</td>\n",
       "    </tr>\n",
       "    <tr>\n",
       "      <th>1</th>\n",
       "      <td>4000</td>\n",
       "      <td>7750.0</td>\n",
       "      <td>290.0</td>\n",
       "      <td>360.0</td>\n",
       "      <td>999</td>\n",
       "      <td>1</td>\n",
       "      <td>1</td>\n",
       "      <td>0</td>\n",
       "      <td>0</td>\n",
       "      <td>1</td>\n",
       "      <td>0</td>\n",
       "      <td>0</td>\n",
       "      <td>1</td>\n",
       "      <td>1</td>\n",
       "      <td>0</td>\n",
       "    </tr>\n",
       "    <tr>\n",
       "      <th>2</th>\n",
       "      <td>2625</td>\n",
       "      <td>6250.0</td>\n",
       "      <td>187.0</td>\n",
       "      <td>360.0</td>\n",
       "      <td>999</td>\n",
       "      <td>1</td>\n",
       "      <td>1</td>\n",
       "      <td>0</td>\n",
       "      <td>0</td>\n",
       "      <td>0</td>\n",
       "      <td>0</td>\n",
       "      <td>0</td>\n",
       "      <td>1</td>\n",
       "      <td>0</td>\n",
       "      <td>0</td>\n",
       "    </tr>\n",
       "    <tr>\n",
       "      <th>3</th>\n",
       "      <td>3902</td>\n",
       "      <td>1666.0</td>\n",
       "      <td>109.0</td>\n",
       "      <td>360.0</td>\n",
       "      <td>999</td>\n",
       "      <td>1</td>\n",
       "      <td>0</td>\n",
       "      <td>0</td>\n",
       "      <td>0</td>\n",
       "      <td>0</td>\n",
       "      <td>1</td>\n",
       "      <td>0</td>\n",
       "      <td>1</td>\n",
       "      <td>0</td>\n",
       "      <td>0</td>\n",
       "    </tr>\n",
       "    <tr>\n",
       "      <th>4</th>\n",
       "      <td>6096</td>\n",
       "      <td>0.0</td>\n",
       "      <td>218.0</td>\n",
       "      <td>360.0</td>\n",
       "      <td>999</td>\n",
       "      <td>1</td>\n",
       "      <td>1</td>\n",
       "      <td>0</td>\n",
       "      <td>0</td>\n",
       "      <td>0</td>\n",
       "      <td>1</td>\n",
       "      <td>0</td>\n",
       "      <td>0</td>\n",
       "      <td>0</td>\n",
       "      <td>0</td>\n",
       "    </tr>\n",
       "  </tbody>\n",
       "</table>\n",
       "</div>"
      ],
      "text/plain": [
       "   ApplicantIncome  CoapplicantIncome  LoanAmount  Loan_Amount_Term  \\\n",
       "0             3748             1668.0       110.0             360.0   \n",
       "1             4000             7750.0       290.0             360.0   \n",
       "2             2625             6250.0       187.0             360.0   \n",
       "3             3902             1666.0       109.0             360.0   \n",
       "4             6096                0.0       218.0             360.0   \n",
       "\n",
       "   Loan_Status  Gender_Male  Married_Yes  Dependents_1  Dependents_2  \\\n",
       "0          999            1            0             0             0   \n",
       "1          999            1            1             0             0   \n",
       "2          999            1            1             0             0   \n",
       "3          999            1            0             0             0   \n",
       "4          999            1            1             0             0   \n",
       "\n",
       "   Dependents_3+  Education_Not Graduate  Self_Employed_Yes  \\\n",
       "0              0                       1                  0   \n",
       "1              1                       0                  0   \n",
       "2              0                       0                  0   \n",
       "3              0                       1                  0   \n",
       "4              0                       1                  0   \n",
       "\n",
       "   Credit_History_1.0  Property_Area_Semiurban  Property_Area_Urban  \n",
       "0                   1                        1                    0  \n",
       "1                   1                        1                    0  \n",
       "2                   1                        0                    0  \n",
       "3                   1                        0                    0  \n",
       "4                   0                        0                    0  "
      ]
     },
     "execution_count": 65,
     "metadata": {},
     "output_type": "execute_result"
    }
   ],
   "source": [
    "# Testing set\n",
    "df_test = df_concat[df_concat['Loan_Status'].isin([999])].reset_index(drop = True)\n",
    "print('Data dimension: {} rows and {} columns'.format(len(df_test), len(df_test.columns)))\n",
    "df_test.head()"
   ]
  },
  {
   "cell_type": "code",
   "execution_count": null,
   "id": "variable-temperature",
   "metadata": {},
   "outputs": [
    {
     "name": "stdout",
     "output_type": "stream",
     "text": [
      "Data dimension of training set   : (324, 14)\n",
      "Data dimension of validation set : (140, 14)\n",
      "Data dimension of testing set    : (106, 14)\n"
     ]
    }
   ],
   "source": [
    "# Data partitioning >>> training set into training and validation\n",
    "df_train_final = df_train.reset_index(drop = True)\n",
    "X = df_train_final[df_train_final.columns[~df_train_final.columns.isin(['Loan_Status'])]]\n",
    "y = df_train_final['Loan_Status']\n",
    "\n",
    "# Training = 70% and validation = 30%\n",
    "X_train, X_val, y_train, y_val = train_test_split(X , y, test_size = 0.3, random_state = 42)\n",
    "print('Data dimension of training set   :', X_train.shape)\n",
    "print('Data dimension of validation set :', X_val.shape)\n",
    "\n",
    "# Testing set\n",
    "X_test = df_test[df_test.columns[~df_test.columns.isin(['Loan_Status'])]]\n",
    "print('Data dimension of testing set    :', X_test.shape)"
   ]
  },
  {
   "cell_type": "markdown",
   "id": "found-probability",
   "metadata": {},
   "source": [
    "## Machine learning model development"
   ]
  },
  {
   "cell_type": "code",
   "execution_count": null,
   "id": "casual-niger",
   "metadata": {},
   "outputs": [
    {
     "name": "stderr",
     "output_type": "stream",
     "text": [
      "c:\\Users\\acer\\anaconda3\\envs\\tensorflow_env\\lib\\site-packages\\xgboost\\sklearn.py:1395: UserWarning: `use_label_encoder` is deprecated in 1.7.0.\n"
     ]
    }
   ],
   "source": [
    "# XGBoost model\n",
    "xgb_model = xgb.XGBClassifier(\n",
    "    objective = 'binary:logistic',\n",
    "    use_label_encoder = False\n",
    ")"
   ]
  },
  {
   "cell_type": "code",
   "execution_count": null,
   "id": "latest-toner",
   "metadata": {},
   "outputs": [],
   "source": [
    "# Define parameter range \n",
    "params = {\n",
    "    'eta': np.arange(0.1, 0.26, 0.05),\n",
    "    'min_child_weight': np.arange(1, 5, 0.5).tolist(),\n",
    "    'gamma': [5],\n",
    "    'subsample': np.arange(0.5, 1.0, 0.11).tolist(),\n",
    "    'colsample_bytree': np.arange(0.5, 1.0, 0.11).tolist()\n",
    "}"
   ]
  },
  {
   "cell_type": "code",
   "execution_count": null,
   "id": "vertical-indian",
   "metadata": {},
   "outputs": [],
   "source": [
    "# Make a scorer from a performance metric or loss function\n",
    "scorers = {\n",
    "    'f1_score': make_scorer(f1_score),\n",
    "    'precision_score': make_scorer(precision_score),\n",
    "    'recall_score': make_scorer(recall_score),\n",
    "    'accuracy_score': make_scorer(accuracy_score)\n",
    "}"
   ]
  },
  {
   "cell_type": "code",
   "execution_count": null,
   "id": "fluid-invite",
   "metadata": {},
   "outputs": [],
   "source": [
    "# k-fold cross validation\n",
    "skf = KFold(n_splits = 10, shuffle = True)"
   ]
  },
  {
   "cell_type": "code",
   "execution_count": null,
   "id": "human-bibliography",
   "metadata": {},
   "outputs": [],
   "source": [
    "# Set up the grid search CV\n",
    "grid = GridSearchCV(\n",
    "    estimator = xgb_model,\n",
    "    param_grid = params,\n",
    "    scoring = scorers,\n",
    "    n_jobs = -1,\n",
    "    cv = skf.split(X_train, np.array(y_train)),\n",
    "    refit = 'accuracy_score'\n",
    ")"
   ]
  },
  {
   "cell_type": "code",
   "execution_count": null,
   "id": "advance-request",
   "metadata": {
    "scrolled": false
   },
   "outputs": [
    {
     "data": {
      "text/html": [
       "<style>#sk-container-id-1 {color: black;background-color: white;}#sk-container-id-1 pre{padding: 0;}#sk-container-id-1 div.sk-toggleable {background-color: white;}#sk-container-id-1 label.sk-toggleable__label {cursor: pointer;display: block;width: 100%;margin-bottom: 0;padding: 0.3em;box-sizing: border-box;text-align: center;}#sk-container-id-1 label.sk-toggleable__label-arrow:before {content: \"▸\";float: left;margin-right: 0.25em;color: #696969;}#sk-container-id-1 label.sk-toggleable__label-arrow:hover:before {color: black;}#sk-container-id-1 div.sk-estimator:hover label.sk-toggleable__label-arrow:before {color: black;}#sk-container-id-1 div.sk-toggleable__content {max-height: 0;max-width: 0;overflow: hidden;text-align: left;background-color: #f0f8ff;}#sk-container-id-1 div.sk-toggleable__content pre {margin: 0.2em;color: black;border-radius: 0.25em;background-color: #f0f8ff;}#sk-container-id-1 input.sk-toggleable__control:checked~div.sk-toggleable__content {max-height: 200px;max-width: 100%;overflow: auto;}#sk-container-id-1 input.sk-toggleable__control:checked~label.sk-toggleable__label-arrow:before {content: \"▾\";}#sk-container-id-1 div.sk-estimator input.sk-toggleable__control:checked~label.sk-toggleable__label {background-color: #d4ebff;}#sk-container-id-1 div.sk-label input.sk-toggleable__control:checked~label.sk-toggleable__label {background-color: #d4ebff;}#sk-container-id-1 input.sk-hidden--visually {border: 0;clip: rect(1px 1px 1px 1px);clip: rect(1px, 1px, 1px, 1px);height: 1px;margin: -1px;overflow: hidden;padding: 0;position: absolute;width: 1px;}#sk-container-id-1 div.sk-estimator {font-family: monospace;background-color: #f0f8ff;border: 1px dotted black;border-radius: 0.25em;box-sizing: border-box;margin-bottom: 0.5em;}#sk-container-id-1 div.sk-estimator:hover {background-color: #d4ebff;}#sk-container-id-1 div.sk-parallel-item::after {content: \"\";width: 100%;border-bottom: 1px solid gray;flex-grow: 1;}#sk-container-id-1 div.sk-label:hover label.sk-toggleable__label {background-color: #d4ebff;}#sk-container-id-1 div.sk-serial::before {content: \"\";position: absolute;border-left: 1px solid gray;box-sizing: border-box;top: 0;bottom: 0;left: 50%;z-index: 0;}#sk-container-id-1 div.sk-serial {display: flex;flex-direction: column;align-items: center;background-color: white;padding-right: 0.2em;padding-left: 0.2em;position: relative;}#sk-container-id-1 div.sk-item {position: relative;z-index: 1;}#sk-container-id-1 div.sk-parallel {display: flex;align-items: stretch;justify-content: center;background-color: white;position: relative;}#sk-container-id-1 div.sk-item::before, #sk-container-id-1 div.sk-parallel-item::before {content: \"\";position: absolute;border-left: 1px solid gray;box-sizing: border-box;top: 0;bottom: 0;left: 50%;z-index: -1;}#sk-container-id-1 div.sk-parallel-item {display: flex;flex-direction: column;z-index: 1;position: relative;background-color: white;}#sk-container-id-1 div.sk-parallel-item:first-child::after {align-self: flex-end;width: 50%;}#sk-container-id-1 div.sk-parallel-item:last-child::after {align-self: flex-start;width: 50%;}#sk-container-id-1 div.sk-parallel-item:only-child::after {width: 0;}#sk-container-id-1 div.sk-dashed-wrapped {border: 1px dashed gray;margin: 0 0.4em 0.5em 0.4em;box-sizing: border-box;padding-bottom: 0.4em;background-color: white;}#sk-container-id-1 div.sk-label label {font-family: monospace;font-weight: bold;display: inline-block;line-height: 1.2em;}#sk-container-id-1 div.sk-label-container {text-align: center;}#sk-container-id-1 div.sk-container {/* jupyter's `normalize.less` sets `[hidden] { display: none; }` but bootstrap.min.css set `[hidden] { display: none !important; }` so we also need the `!important` here to be able to override the default hidden behavior on the sphinx rendered scikit-learn.org. See: https://github.com/scikit-learn/scikit-learn/issues/21755 */display: inline-block !important;position: relative;}#sk-container-id-1 div.sk-text-repr-fallback {display: none;}</style><div id=\"sk-container-id-1\" class=\"sk-top-container\"><div class=\"sk-text-repr-fallback\"><pre>GridSearchCV(cv=&lt;generator object _BaseKFold.split at 0x000001BAC3916B20&gt;,\n",
       "             estimator=XGBClassifier(base_score=None, booster=None,\n",
       "                                     callbacks=None, colsample_bylevel=None,\n",
       "                                     colsample_bynode=None,\n",
       "                                     colsample_bytree=None,\n",
       "                                     early_stopping_rounds=None,\n",
       "                                     enable_categorical=False, eval_metric=None,\n",
       "                                     feature_types=None, gamma=None,\n",
       "                                     gpu_id=None, grow_policy=None,\n",
       "                                     importance_type=N...\n",
       "             param_grid={&#x27;colsample_bytree&#x27;: [0.5, 0.61, 0.72, 0.83, 0.94],\n",
       "                         &#x27;eta&#x27;: array([0.1 , 0.15, 0.2 , 0.25]), &#x27;gamma&#x27;: [5],\n",
       "                         &#x27;min_child_weight&#x27;: [1.0, 1.5, 2.0, 2.5, 3.0, 3.5, 4.0,\n",
       "                                              4.5],\n",
       "                         &#x27;subsample&#x27;: [0.5, 0.61, 0.72, 0.83, 0.94]},\n",
       "             refit=&#x27;accuracy_score&#x27;,\n",
       "             scoring={&#x27;accuracy_score&#x27;: make_scorer(accuracy_score),\n",
       "                      &#x27;f1_score&#x27;: make_scorer(f1_score),\n",
       "                      &#x27;precision_score&#x27;: make_scorer(precision_score),\n",
       "                      &#x27;recall_score&#x27;: make_scorer(recall_score)})</pre><b>In a Jupyter environment, please rerun this cell to show the HTML representation or trust the notebook. <br />On GitHub, the HTML representation is unable to render, please try loading this page with nbviewer.org.</b></div><div class=\"sk-container\" hidden><div class=\"sk-item sk-dashed-wrapped\"><div class=\"sk-label-container\"><div class=\"sk-label sk-toggleable\"><input class=\"sk-toggleable__control sk-hidden--visually\" id=\"sk-estimator-id-1\" type=\"checkbox\" ><label for=\"sk-estimator-id-1\" class=\"sk-toggleable__label sk-toggleable__label-arrow\">GridSearchCV</label><div class=\"sk-toggleable__content\"><pre>GridSearchCV(cv=&lt;generator object _BaseKFold.split at 0x000001BAC3916B20&gt;,\n",
       "             estimator=XGBClassifier(base_score=None, booster=None,\n",
       "                                     callbacks=None, colsample_bylevel=None,\n",
       "                                     colsample_bynode=None,\n",
       "                                     colsample_bytree=None,\n",
       "                                     early_stopping_rounds=None,\n",
       "                                     enable_categorical=False, eval_metric=None,\n",
       "                                     feature_types=None, gamma=None,\n",
       "                                     gpu_id=None, grow_policy=None,\n",
       "                                     importance_type=N...\n",
       "             param_grid={&#x27;colsample_bytree&#x27;: [0.5, 0.61, 0.72, 0.83, 0.94],\n",
       "                         &#x27;eta&#x27;: array([0.1 , 0.15, 0.2 , 0.25]), &#x27;gamma&#x27;: [5],\n",
       "                         &#x27;min_child_weight&#x27;: [1.0, 1.5, 2.0, 2.5, 3.0, 3.5, 4.0,\n",
       "                                              4.5],\n",
       "                         &#x27;subsample&#x27;: [0.5, 0.61, 0.72, 0.83, 0.94]},\n",
       "             refit=&#x27;accuracy_score&#x27;,\n",
       "             scoring={&#x27;accuracy_score&#x27;: make_scorer(accuracy_score),\n",
       "                      &#x27;f1_score&#x27;: make_scorer(f1_score),\n",
       "                      &#x27;precision_score&#x27;: make_scorer(precision_score),\n",
       "                      &#x27;recall_score&#x27;: make_scorer(recall_score)})</pre></div></div></div><div class=\"sk-parallel\"><div class=\"sk-parallel-item\"><div class=\"sk-item\"><div class=\"sk-label-container\"><div class=\"sk-label sk-toggleable\"><input class=\"sk-toggleable__control sk-hidden--visually\" id=\"sk-estimator-id-2\" type=\"checkbox\" ><label for=\"sk-estimator-id-2\" class=\"sk-toggleable__label sk-toggleable__label-arrow\">estimator: XGBClassifier</label><div class=\"sk-toggleable__content\"><pre>XGBClassifier(base_score=None, booster=None, callbacks=None,\n",
       "              colsample_bylevel=None, colsample_bynode=None,\n",
       "              colsample_bytree=None, early_stopping_rounds=None,\n",
       "              enable_categorical=False, eval_metric=None, feature_types=None,\n",
       "              gamma=None, gpu_id=None, grow_policy=None, importance_type=None,\n",
       "              interaction_constraints=None, learning_rate=None, max_bin=None,\n",
       "              max_cat_threshold=None, max_cat_to_onehot=None,\n",
       "              max_delta_step=None, max_depth=None, max_leaves=None,\n",
       "              min_child_weight=None, missing=nan, monotone_constraints=None,\n",
       "              n_estimators=100, n_jobs=None, num_parallel_tree=None,\n",
       "              predictor=None, random_state=None, ...)</pre></div></div></div><div class=\"sk-serial\"><div class=\"sk-item\"><div class=\"sk-estimator sk-toggleable\"><input class=\"sk-toggleable__control sk-hidden--visually\" id=\"sk-estimator-id-3\" type=\"checkbox\" ><label for=\"sk-estimator-id-3\" class=\"sk-toggleable__label sk-toggleable__label-arrow\">XGBClassifier</label><div class=\"sk-toggleable__content\"><pre>XGBClassifier(base_score=None, booster=None, callbacks=None,\n",
       "              colsample_bylevel=None, colsample_bynode=None,\n",
       "              colsample_bytree=None, early_stopping_rounds=None,\n",
       "              enable_categorical=False, eval_metric=None, feature_types=None,\n",
       "              gamma=None, gpu_id=None, grow_policy=None, importance_type=None,\n",
       "              interaction_constraints=None, learning_rate=None, max_bin=None,\n",
       "              max_cat_threshold=None, max_cat_to_onehot=None,\n",
       "              max_delta_step=None, max_depth=None, max_leaves=None,\n",
       "              min_child_weight=None, missing=nan, monotone_constraints=None,\n",
       "              n_estimators=100, n_jobs=None, num_parallel_tree=None,\n",
       "              predictor=None, random_state=None, ...)</pre></div></div></div></div></div></div></div></div></div></div>"
      ],
      "text/plain": [
       "GridSearchCV(cv=<generator object _BaseKFold.split at 0x000001BAC3916B20>,\n",
       "             estimator=XGBClassifier(base_score=None, booster=None,\n",
       "                                     callbacks=None, colsample_bylevel=None,\n",
       "                                     colsample_bynode=None,\n",
       "                                     colsample_bytree=None,\n",
       "                                     early_stopping_rounds=None,\n",
       "                                     enable_categorical=False, eval_metric=None,\n",
       "                                     feature_types=None, gamma=None,\n",
       "                                     gpu_id=None, grow_policy=None,\n",
       "                                     importance_type=N...\n",
       "             param_grid={'colsample_bytree': [0.5, 0.61, 0.72, 0.83, 0.94],\n",
       "                         'eta': array([0.1 , 0.15, 0.2 , 0.25]), 'gamma': [5],\n",
       "                         'min_child_weight': [1.0, 1.5, 2.0, 2.5, 3.0, 3.5, 4.0,\n",
       "                                              4.5],\n",
       "                         'subsample': [0.5, 0.61, 0.72, 0.83, 0.94]},\n",
       "             refit='accuracy_score',\n",
       "             scoring={'accuracy_score': make_scorer(accuracy_score),\n",
       "                      'f1_score': make_scorer(f1_score),\n",
       "                      'precision_score': make_scorer(precision_score),\n",
       "                      'recall_score': make_scorer(recall_score)})"
      ]
     },
     "execution_count": 73,
     "metadata": {},
     "output_type": "execute_result"
    }
   ],
   "source": [
    "# Fit the model\n",
    "grid.fit(X = X_train, y = y_train)"
   ]
  },
  {
   "cell_type": "code",
   "execution_count": null,
   "id": "saved-price",
   "metadata": {},
   "outputs": [
    {
     "data": {
      "text/plain": [
       "{'colsample_bytree': 0.83,\n",
       " 'eta': 0.25000000000000006,\n",
       " 'gamma': 5,\n",
       " 'min_child_weight': 1.0,\n",
       " 'subsample': 0.83}"
      ]
     },
     "execution_count": 74,
     "metadata": {},
     "output_type": "execute_result"
    }
   ],
   "source": [
    "# Best parameters\n",
    "grid.best_params_"
   ]
  },
  {
   "cell_type": "code",
   "execution_count": null,
   "id": "major-tuesday",
   "metadata": {},
   "outputs": [],
   "source": [
    "# Create a prediction of training \n",
    "predicted = grid.predict(X_val)"
   ]
  },
  {
   "cell_type": "code",
   "execution_count": null,
   "id": "damaged-offense",
   "metadata": {
    "scrolled": true
   },
   "outputs": [
    {
     "name": "stdout",
     "output_type": "stream",
     "text": [
      "Accuracy for baseline   :0.86429\n",
      "Recall for baseline     :0.84483\n",
      "Precision for baseline  :0.9899\n",
      "F1 Score for baseline   :0.91163\n"
     ]
    }
   ],
   "source": [
    "# Model evaluation - training data\n",
    "accuracy_baseline = accuracy_score(predicted, np.array(y_val))\n",
    "recall_baseline = recall_score(predicted, np.array(y_val))\n",
    "precision_baseline = precision_score(predicted, np.array(y_val))\n",
    "f1_baseline = f1_score(predicted, np.array(y_val))\n",
    "\n",
    "print('Accuracy for baseline   :{}'.format(round(accuracy_baseline, 5)))\n",
    "print('Recall for baseline     :{}'.format(round(recall_baseline, 5)))\n",
    "print('Precision for baseline  :{}'.format(round(precision_baseline, 5)))\n",
    "print('F1 Score for baseline   :{}'.format(round(f1_baseline, 5)))"
   ]
  },
  {
   "cell_type": "markdown",
   "id": "iraqi-intersection",
   "metadata": {},
   "source": [
    "## Store the ML model"
   ]
  },
  {
   "cell_type": "code",
   "execution_count": null,
   "id": "precious-discipline",
   "metadata": {},
   "outputs": [
    {
     "data": {
      "text/plain": [
       "['C:\\\\Users\\\\acer\\\\Desktop\\\\loan-approval-prediction-main\\\\bin\\\\xgboostModel.pkl']"
      ]
     },
     "execution_count": 79,
     "metadata": {},
     "output_type": "execute_result"
    }
   ],
   "source": [
    "# Store the model into a pickle file\n",
    "filename = r'C:\\Users\\acer\\Desktop\\loan-approval-prediction-main\\bin\\xgboostModel.pkl'\n",
    "joblib.dump(grid.best_estimator_, filename)"
   ]
  }
 ],
 "metadata": {
  "kernelspec": {
   "display_name": "Python 3",
   "language": "python",
   "name": "python3"
  },
  "language_info": {
   "codemirror_mode": {
    "name": "ipython",
    "version": 3
   },
   "file_extension": ".py",
   "mimetype": "text/x-python",
   "name": "python",
   "nbconvert_exporter": "python",
   "pygments_lexer": "ipython3",
   "version": "3.10.10"
  }
 },
 "nbformat": 4,
 "nbformat_minor": 5
}
